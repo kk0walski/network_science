{
 "metadata": {
  "language_info": {
   "codemirror_mode": {
    "name": "ipython",
    "version": 3
   },
   "file_extension": ".py",
   "mimetype": "text/x-python",
   "name": "python",
   "nbconvert_exporter": "python",
   "pygments_lexer": "ipython3",
   "version": "3.8.6-final"
  },
  "orig_nbformat": 2,
  "kernelspec": {
   "name": "python386jvsc74a57bd0a1d13af8f65c10d3cee31cf71dc414b5280c701d65442de8bd0a89a2df9fa7bb",
   "display_name": "Python 3.8.6 64-bit ('venv': venv)",
   "language": "python"
  }
 },
 "nbformat": 4,
 "nbformat_minor": 2,
 "cells": [
  {
   "cell_type": "code",
   "execution_count": 1,
   "metadata": {},
   "outputs": [],
   "source": [
    "import progressbar\n",
    "import numpy as np\n",
    "import pandas as pd\n",
    "import networkx as nx\n",
    "from classModel import random_edge\n",
    "from pymnetModel import MarkovModel"
   ]
  },
  {
   "cell_type": "code",
   "execution_count": 2,
   "metadata": {},
   "outputs": [],
   "source": [
    "column_names = [\"nodes\", \"rho\", \"network\", \"beta\", \"lambda\", \"physical_infectivity\", \"factor\", \"hidden_infectivity\", \"aware\", \"infected\"]\n",
    "\n",
    "df = pd.DataFrame(columns = column_names)"
   ]
  },
  {
   "cell_type": "code",
   "execution_count": 3,
   "metadata": {
    "tags": []
   },
   "outputs": [
    {
     "output_type": "stream",
     "name": "stderr",
     "text": [
      "100% (30 of 30) |########################| Elapsed Time: 0:00:04 Time:  0:00:04\n",
      " 20% (6 of 30) |#####                    | Elapsed Time: 0:00:03 ETA:   0:00:12"
     ]
    }
   ],
   "source": [
    "for nodes_number in [100]:\n",
    "    physical_layer = nx.barabasi_albert_graph(nodes_number, 5)\n",
    "    hidden_layer = physical_layer.copy()\n",
    "    for i in range(400):\n",
    "        hidden_layer = random_edge(hidden_layer)\n",
    "    model = MarkovModel(nodes_number, physical_layer, hidden_layer, rho=0.2)\n",
    "    model.set_level(2)\n",
    "    model.set_factor(0.01)\n",
    "    model.set_physical_trans_prob(0.4)\n",
    "    model.set_hidden_trans_prob(0.6)\n",
    "    for infectivity in np.linspace(0, 1, 20):\n",
    "        model.set_infectivity(infectivity)\n",
    "        for _lambda in np.linspace(0, 1, 10):\n",
    "            model.set_lambda(_lambda)\n",
    "            reasult = {\"nodes\": nodes_number, \"rho\": 0.2, \"network\": \"barabassi\", \"factor\": 0.01,\n",
    "                        \"beta\": infectivity, \"lambda\": _lambda, \"physical_infectivity\": 0.4,\n",
    "                        \"hidden_infectivity\": 0.6, \"aware\": 0, \"infected\": 0}\n",
    "            model.init_simulation()\n",
    "            model.run()\n",
    "            reasult[\"infected\"] = np.mean(model.I_t)/nodes_number\n",
    "            reasult[\"aware\"] = np.mean(model.A_t)/nodes_number\n",
    "            df = df.append(reasult, ignore_index=True)\n",
    "        "
   ]
  },
  {
   "cell_type": "code",
   "execution_count": 4,
   "metadata": {},
   "outputs": [],
   "source": [
    "df.to_csv(\"experiment3.csv\")"
   ]
  },
  {
   "cell_type": "code",
   "execution_count": 5,
   "metadata": {},
   "outputs": [],
   "source": [
    "# for nodes_number in [100, 1000]:\n",
    "#     physical_layer = nx.barabasi_albert_graph(nodes_number, 10)\n",
    "#     hidden_layer = physical_layer.copy()\n",
    "#     for i in range(400):\n",
    "#         hidden_layer = random_edge(hidden_layer)\n",
    "#     for _rho in [0.2]:\n",
    "#         model = MarkovModel(nodes_number, physical_layer, hidden_layer, rho=_rho)\n",
    "#         model.set_factor(0.01)\n",
    "#         model.set_lambda(0.15)\n",
    "#         for infectivity in np.linspace(0, 1, 20):\n",
    "#             model.set_infectivity(infectivity)\n",
    "#             for physical_infectivity in np.linspace(0, 1, 5):\n",
    "#                 model.set_physical_trans_prob(physical_infectivity)\n",
    "#                 for hidden_infectivity in np.linspace(0, 1, 5):\n",
    "#                     model.set_hidden_trans_prob(hidden_infectivity)\n",
    "#                     reasult = {\"nodes\": nodes_number, \"rho\": _rho, \"network\": \"barabassi\", \"factor\": 0.01,\n",
    "#                                 \"beta\": infectivity, \"lambda\": 0.15, \"physical_infectivity\":physical_infectivity,\n",
    "#                                 \"hidden_infectivity\": hidden_infectivity, \"aware\": 0, \"infected\": 0}\n",
    "#                     model.init_simulation()\n",
    "#                     model.run()\n",
    "#                     reasult[\"infected\"] = np.mean(model.I_t)/nodes_number\n",
    "#                     reasult[\"aware\"] = np.mean(model.A_t)/nodes_number\n",
    "#                     df = df.append(reasult, ignore_index=True)"
   ]
  },
  {
   "cell_type": "code",
   "execution_count": 6,
   "metadata": {},
   "outputs": [],
   "source": [
    "# df.to_csv(\"experiment.csv\")"
   ]
  },
  {
   "cell_type": "code",
   "execution_count": 7,
   "metadata": {},
   "outputs": [],
   "source": [
    "    # for physical_prob in np.linspace(0, 1, 5):\n",
    "    #     model.set_physical_trans_prob(physical_prob)\n",
    "    #     for hidden_prob in np.linspace(0, 1, 5):\n",
    "    #         model.set_hidden_trans_prob(hidden_prob)"
   ]
  }
 ]
}