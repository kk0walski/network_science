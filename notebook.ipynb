{
 "metadata": {
  "language_info": {
   "codemirror_mode": {
    "name": "ipython",
    "version": 3
   },
   "file_extension": ".py",
   "mimetype": "text/x-python",
   "name": "python",
   "nbconvert_exporter": "python",
   "pygments_lexer": "ipython3",
   "version": "3.9.4"
  },
  "orig_nbformat": 2,
  "kernelspec": {
   "name": "python394jvsc74a57bd0a1d13af8f65c10d3cee31cf71dc414b5280c701d65442de8bd0a89a2df9fa7bb",
   "display_name": "Python 3.9.4 64-bit ('venv': venv)"
  }
 },
 "nbformat": 4,
 "nbformat_minor": 2,
 "cells": [
  {
   "cell_type": "code",
   "execution_count": 4,
   "metadata": {},
   "outputs": [],
   "source": [
    "import csv\n",
    "import progressbar\n",
    "import numpy as np\n",
    "import pandas as pd\n",
    "import networkx as nx\n",
    "from dictonaryModel import random_edge, MarkovModel, multiplex_network, from_file\n",
    "# from pymnetModel import MarkovModel"
   ]
  },
  {
   "cell_type": "code",
   "execution_count": 2,
   "metadata": {},
   "outputs": [],
   "source": [
    "column_names = [\"nodes\", \"rho\", \"network\", \"beta\", \"lambda\", \"factor\", \"physical_infectivity\", \"hidden_infectivity\", \"aware\", \"infected\"]"
   ]
  },
  {
   "cell_type": "code",
   "execution_count": 6,
   "metadata": {},
   "outputs": [],
   "source": [
    "try:\n",
    "    with open(r\"experiment5.csv\", \"a\", newline='') as csvfile:\n",
    "        writer = csv.DictWriter(csvfile, fieldnames=column_names)\n",
    "        writer.writeheader()\n",
    "except IOError:\n",
    "    print(\"I/O error\")"
   ]
  },
  {
   "cell_type": "code",
   "execution_count": 5,
   "metadata": {
    "tags": []
   },
   "outputs": [
    {
     "output_type": "error",
     "ename": "IndexError",
     "evalue": "list index out of range",
     "traceback": [
      "\u001b[0;31m---------------------------------------------------------------------------\u001b[0m",
      "\u001b[0;31mIndexError\u001b[0m                                Traceback (most recent call last)",
      "\u001b[0;32m<ipython-input-5-c9bbcd21160c>\u001b[0m in \u001b[0;36m<module>\u001b[0;34m\u001b[0m\n\u001b[1;32m      3\u001b[0m     \u001b[0mhidden_layer\u001b[0m \u001b[0;34m=\u001b[0m \u001b[0mphysical_layer\u001b[0m\u001b[0;34m.\u001b[0m\u001b[0mcopy\u001b[0m\u001b[0;34m(\u001b[0m\u001b[0;34m)\u001b[0m\u001b[0;34m\u001b[0m\u001b[0;34m\u001b[0m\u001b[0m\n\u001b[1;32m      4\u001b[0m     \u001b[0;32mfor\u001b[0m \u001b[0mi\u001b[0m \u001b[0;32min\u001b[0m \u001b[0mrange\u001b[0m\u001b[0;34m(\u001b[0m\u001b[0;36m400\u001b[0m\u001b[0;34m)\u001b[0m\u001b[0;34m:\u001b[0m\u001b[0;34m\u001b[0m\u001b[0;34m\u001b[0m\u001b[0m\n\u001b[0;32m----> 5\u001b[0;31m         \u001b[0mhidden_layer\u001b[0m \u001b[0;34m=\u001b[0m \u001b[0mrandom_edge\u001b[0m\u001b[0;34m(\u001b[0m\u001b[0mhidden_layer\u001b[0m\u001b[0;34m)\u001b[0m\u001b[0;34m\u001b[0m\u001b[0;34m\u001b[0m\u001b[0m\n\u001b[0m\u001b[1;32m      6\u001b[0m     \u001b[0mnetwork\u001b[0m \u001b[0;34m=\u001b[0m \u001b[0mmultiplex_network\u001b[0m\u001b[0;34m(\u001b[0m\u001b[0mnodes_number\u001b[0m\u001b[0;34m,\u001b[0m \u001b[0mphysical_layer\u001b[0m\u001b[0;34m,\u001b[0m \u001b[0mhidden_layer\u001b[0m\u001b[0;34m)\u001b[0m\u001b[0;34m\u001b[0m\u001b[0;34m\u001b[0m\u001b[0m\n\u001b[1;32m      7\u001b[0m     \u001b[0mmodel\u001b[0m \u001b[0;34m=\u001b[0m \u001b[0mMarkovModel\u001b[0m\u001b[0;34m(\u001b[0m\u001b[0mnodes_number\u001b[0m\u001b[0;34m,\u001b[0m \u001b[0mnetwork\u001b[0m\u001b[0;34m,\u001b[0m  \u001b[0mrho\u001b[0m\u001b[0;34m=\u001b[0m\u001b[0;36m0.2\u001b[0m\u001b[0;34m)\u001b[0m\u001b[0;34m\u001b[0m\u001b[0;34m\u001b[0m\u001b[0m\n",
      "\u001b[0;32m~/Dokumenty/network_science/dictonaryModel.py\u001b[0m in \u001b[0;36mrandom_edge\u001b[0;34m(graph)\u001b[0m\n\u001b[1;32m    412\u001b[0m     \u001b[0;31m# random edge choice\u001b[0m\u001b[0;34m\u001b[0m\u001b[0;34m\u001b[0m\u001b[0;34m\u001b[0m\u001b[0m\n\u001b[1;32m    413\u001b[0m     \u001b[0mchosen_edge\u001b[0m \u001b[0;34m=\u001b[0m \u001b[0mrandom\u001b[0m\u001b[0;34m.\u001b[0m\u001b[0mchoice\u001b[0m\u001b[0;34m(\u001b[0m\u001b[0medges\u001b[0m\u001b[0;34m)\u001b[0m\u001b[0;34m\u001b[0m\u001b[0;34m\u001b[0m\u001b[0m\n\u001b[0;32m--> 414\u001b[0;31m     \u001b[0mchosen_nonedge\u001b[0m \u001b[0;34m=\u001b[0m \u001b[0mrandom\u001b[0m\u001b[0;34m.\u001b[0m\u001b[0mchoice\u001b[0m\u001b[0;34m(\u001b[0m\u001b[0;34m[\u001b[0m\u001b[0mx\u001b[0m \u001b[0;32mfor\u001b[0m \u001b[0mx\u001b[0m \u001b[0;32min\u001b[0m \u001b[0mnonedges\u001b[0m \u001b[0;32mif\u001b[0m \u001b[0mchosen_edge\u001b[0m\u001b[0;34m[\u001b[0m\u001b[0;36m0\u001b[0m\u001b[0;34m]\u001b[0m \u001b[0;34m==\u001b[0m \u001b[0mx\u001b[0m\u001b[0;34m[\u001b[0m\u001b[0;36m0\u001b[0m\u001b[0;34m]\u001b[0m\u001b[0;34m]\u001b[0m\u001b[0;34m)\u001b[0m\u001b[0;34m\u001b[0m\u001b[0;34m\u001b[0m\u001b[0m\n\u001b[0m\u001b[1;32m    415\u001b[0m     \u001b[0mgraph\u001b[0m\u001b[0;34m.\u001b[0m\u001b[0madd_edge\u001b[0m\u001b[0;34m(\u001b[0m\u001b[0mchosen_nonedge\u001b[0m\u001b[0;34m[\u001b[0m\u001b[0;36m0\u001b[0m\u001b[0;34m]\u001b[0m\u001b[0;34m,\u001b[0m \u001b[0mchosen_nonedge\u001b[0m\u001b[0;34m[\u001b[0m\u001b[0;36m1\u001b[0m\u001b[0;34m]\u001b[0m\u001b[0;34m)\u001b[0m\u001b[0;34m\u001b[0m\u001b[0;34m\u001b[0m\u001b[0m\n\u001b[1;32m    416\u001b[0m     \u001b[0;32mreturn\u001b[0m \u001b[0mgraph\u001b[0m\u001b[0;34m\u001b[0m\u001b[0;34m\u001b[0m\u001b[0m\n",
      "\u001b[0;32m/usr/lib/python3.9/random.py\u001b[0m in \u001b[0;36mchoice\u001b[0;34m(self, seq)\u001b[0m\n\u001b[1;32m    345\u001b[0m         \u001b[0;34m\"\"\"Choose a random element from a non-empty sequence.\"\"\"\u001b[0m\u001b[0;34m\u001b[0m\u001b[0;34m\u001b[0m\u001b[0m\n\u001b[1;32m    346\u001b[0m         \u001b[0;31m# raises IndexError if seq is empty\u001b[0m\u001b[0;34m\u001b[0m\u001b[0;34m\u001b[0m\u001b[0;34m\u001b[0m\u001b[0m\n\u001b[0;32m--> 347\u001b[0;31m         \u001b[0;32mreturn\u001b[0m \u001b[0mseq\u001b[0m\u001b[0;34m[\u001b[0m\u001b[0mself\u001b[0m\u001b[0;34m.\u001b[0m\u001b[0m_randbelow\u001b[0m\u001b[0;34m(\u001b[0m\u001b[0mlen\u001b[0m\u001b[0;34m(\u001b[0m\u001b[0mseq\u001b[0m\u001b[0;34m)\u001b[0m\u001b[0;34m)\u001b[0m\u001b[0;34m]\u001b[0m\u001b[0;34m\u001b[0m\u001b[0;34m\u001b[0m\u001b[0m\n\u001b[0m\u001b[1;32m    348\u001b[0m \u001b[0;34m\u001b[0m\u001b[0m\n\u001b[1;32m    349\u001b[0m     \u001b[0;32mdef\u001b[0m \u001b[0mshuffle\u001b[0m\u001b[0;34m(\u001b[0m\u001b[0mself\u001b[0m\u001b[0;34m,\u001b[0m \u001b[0mx\u001b[0m\u001b[0;34m,\u001b[0m \u001b[0mrandom\u001b[0m\u001b[0;34m=\u001b[0m\u001b[0;32mNone\u001b[0m\u001b[0;34m)\u001b[0m\u001b[0;34m:\u001b[0m\u001b[0;34m\u001b[0m\u001b[0;34m\u001b[0m\u001b[0m\n",
      "\u001b[0;31mIndexError\u001b[0m: list index out of range"
     ]
    }
   ],
   "source": [
    "for network in [\"hiv\", \"school\", \"infectious\"]:\n",
    "    physical_layer = from_file(network)\n",
    "    hidden_layer = physical_layer.copy()\n",
    "    for i in range(400):\n",
    "        hidden_layer = random_edge(hidden_layer)\n",
    "    network = multiplex_network(nodes_number, physical_layer, hidden_layer)\n",
    "    model = MarkovModel(nodes_number, network,  rho=0.2)\n",
    "    model.set_level(1)\n",
    "    model.set_factor(0.01)\n",
    "    for physical_prob in np.linspace(0, 1, 11):\n",
    "        model.set_physical_trans_prob(physical_prob)\n",
    "        for hidden_prob in np.round(np.linspace(0, 1, 11), 2)[4:]:\n",
    "            model.set_hidden_trans_prob(hidden_prob)\n",
    "            for infectivity in progressbar.progressbar(np.round(np.linspace(0,1,11), 2)):\n",
    "                model.set_infectivity(infectivity)\n",
    "                for _lambda in np.round(np.linspace(0,1,11), 2):\n",
    "                    model.set_lambda(_lambda)\n",
    "                    reasult = {\"nodes\": len(physical_layer.nodes()), \"rho\": 0.2,\n",
    "                        \"network\": network, \"beta\": infectivity, \n",
    "                        \"lambda\": _lambda, \"factor\": 0.01,\n",
    "                        \"physical_infectivity\": 1.0,\n",
    "                        \"hidden_infectivity\": hidden_prob,\n",
    "                        \"aware\": 0, \"infected\": 0\n",
    "                        }\n",
    "                    model.init_simulation()\n",
    "                    model.run()\n",
    "                    reasult[\"infected\"] = np.mean(np.array(model.I_t) / nodes_number)\n",
    "                    reasult[\"aware\"] = np.mean(np.array(model.A_t) / nodes_number) \n",
    "                    try:\n",
    "                        with open(r\"experiment5.csv\", \"a\") as csvfile:\n",
    "                            writer = csv.DictWriter(csvfile, fieldnames=column_names)\n",
    "                            writer.writerow(reasult)\n",
    "                    except IOError:\n",
    "                        print(\"I/O error\")"
   ]
  },
  {
   "cell_type": "code",
   "execution_count": 5,
   "metadata": {
    "tags": []
   },
   "outputs": [],
   "source": [
    "# for nodes_number in [100, 1000]:\n",
    "#     physical_layer = nx.barabasi_albert_graph(nodes_number, 5)\n",
    "#     hidden_layer = physical_layer.copy()\n",
    "#     for i in range(400):\n",
    "#         hidden_layer = random_edge(hidden_layer)\n",
    "#     multiplex_network = multiplex_network(nodes_number, physical_layer, hidden_layer)\n",
    "#     model = MarkovModel(nodes_number, multiplex_network,  rho=0.2)\n",
    "#     model.set_level(2)\n",
    "#     model.set_factor(0.01)\n",
    "#     for physical_prob in np.linspace(0, 1, 5):\n",
    "#         model.set_physical_trans_prob(physical_prob)\n",
    "#         for hidden_prob in np.linspace(0, 1, 5):\n",
    "#             model.set_hidden_trans_prob(hidden_prob)\n",
    "#             for infectivity in np.linspace(0, 1, 20):\n",
    "#                 model.set_infectivity(infectivity)\n",
    "#                 for _lambda in np.linspace(0, 1, 10):\n",
    "#                     model.set_lambda(_lambda)\n",
    "#                     reasult = {\"nodes\": nodes_number, \"rho\": 0.2, \"network\": \"barabassi\", \"factor\": 0.01,\n",
    "#                                 \"beta\": infectivity, \"lambda\": _lambda, \"physical_infectivity\": physical_prob,\n",
    "#                                 \"hidden_infectivity\": hidden_prob, \"aware\": 0, \"infected\": 0}\n",
    "#                     model.init_simulation()\n",
    "#                     model.run()\n",
    "#                     reasult[\"infected\"] = np.mean(model.I_t)/nodes_number\n",
    "#                     reasult[\"aware\"] = np.mean(model.A_t)/nodes_number\n",
    "#                     writer = csv.DictWriter(csvfile, fieldnames=column_names)\n",
    "#                     writer.writerow(reasult)"
   ]
  },
  {
   "cell_type": "code",
   "execution_count": 6,
   "metadata": {},
   "outputs": [],
   "source": [
    "# df.to_csv(\"experiment3.csv\")"
   ]
  },
  {
   "cell_type": "code",
   "execution_count": 7,
   "metadata": {},
   "outputs": [],
   "source": [
    "# for nodes_number in [100]:\n",
    "#     physical_layer = nx.barabasi_albert_graph(nodes_number, 5)\n",
    "#     hidden_layer = physical_layer.copy()\n",
    "#     for i in range(400):\n",
    "#         hidden_layer = random_edge(hidden_layer)\n",
    "#     model = MarkovModel(nodes_number, physical_layer, hidden_layer, rho=0.2)\n",
    "#     model.set_level(2)\n",
    "#     model.set_factor(0.01)\n",
    "#     for physical_prob in np.linspace(0, 1, 5):\n",
    "#         model.set_physical_trans_prob(physical_prob)\n",
    "#         for hidden_prob in np.linspace(0, 1, 5):\n",
    "#             model.set_hidden_trans_prob(hidden_prob)\n",
    "#             for infectivity in np.linspace(0, 1, 20):\n",
    "#                 model.set_infectivity(infectivity)\n",
    "#                 for _lambda in np.linspace(0, 1, 10):\n",
    "#                     model.set_lambda(_lambda)\n",
    "#                     reasult = {\"nodes\": nodes_number, \"rho\": 0.2, \"network\": \"barabassi\", \"factor\": 0.01,\n",
    "#                                 \"beta\": infectivity, \"lambda\": _lambda, \"physical_infectivity\": 0.4,\n",
    "#                                 \"hidden_infectivity\": 0.6, \"aware\": 0, \"infected\": 0}\n",
    "#                     model.init_simulation()\n",
    "#                     model.run()\n",
    "#                     reasult[\"infected\"] = np.mean(model.I_t)/nodes_number\n",
    "#                     reasult[\"aware\"] = np.mean(model.A_t)/nodes_number\n",
    "#                     df = df.append(reasult, ignore_index=True)\n",
    "        "
   ]
  },
  {
   "cell_type": "code",
   "execution_count": 8,
   "metadata": {},
   "outputs": [],
   "source": [
    "# df.to_csv(\"experiment.csv\")"
   ]
  },
  {
   "cell_type": "code",
   "execution_count": 9,
   "metadata": {},
   "outputs": [],
   "source": [
    "    # for physical_prob in np.linspace(0, 1, 5):\n",
    "    #     model.set_physical_trans_prob(physical_prob)\n",
    "    #     for hidden_prob in np.linspace(0, 1, 5):\n",
    "    #         model.set_hidden_trans_prob(hidden_prob)"
   ]
  }
 ]
}