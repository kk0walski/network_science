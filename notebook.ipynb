{
 "metadata": {
  "language_info": {
   "codemirror_mode": {
    "name": "ipython",
    "version": 3
   },
   "file_extension": ".py",
   "mimetype": "text/x-python",
   "name": "python",
   "nbconvert_exporter": "python",
   "pygments_lexer": "ipython3",
   "version": "3.8.6-final"
  },
  "orig_nbformat": 2,
  "kernelspec": {
   "name": "python386jvsc74a57bd0a1d13af8f65c10d3cee31cf71dc414b5280c701d65442de8bd0a89a2df9fa7bb",
   "display_name": "Python 3.8.6 64-bit ('venv': venv)",
   "language": "python"
  }
 },
 "nbformat": 4,
 "nbformat_minor": 2,
 "cells": [
  {
   "cell_type": "code",
   "execution_count": 1,
   "metadata": {},
   "outputs": [],
   "source": [
    "import csv\n",
    "import progressbar\n",
    "import numpy as np\n",
    "import pandas as pd\n",
    "import networkx as nx\n",
    "from dictonaryModel import random_edge, MarkovModel, multiplex_network\n",
    "# from pymnetModel import MarkovModel"
   ]
  },
  {
   "cell_type": "code",
   "execution_count": 2,
   "metadata": {},
   "outputs": [],
   "source": [
    "column_names = [\"nodes\", \"rho\", \"network\", \"beta\", \"lambda\", \"factor\", \"physical_infectivity\", \"hidden_infectivity\", \"aware\", \"infected\"]"
   ]
  },
  {
   "cell_type": "code",
   "execution_count": 3,
   "metadata": {},
   "outputs": [],
   "source": [
    "try:\n",
    "    with open(r\"experiment3.csv\", \"a\", newline='') as csvfile:\n",
    "        writer = csv.DictWriter(csvfile, fieldnames=column_names)\n",
    "        writer.writeheader()\n",
    "except IOError:\n",
    "    print(\"I/O error\")"
   ]
  },
  {
   "cell_type": "code",
   "execution_count": 4,
   "metadata": {
    "tags": []
   },
   "outputs": [
    {
     "output_type": "stream",
     "name": "stderr",
     "text": [
      "100% (30 of 30) |########################| Elapsed Time: 0:00:14 Time:  0:00:14\n",
      "100% (30 of 30) |########################| Elapsed Time: 0:00:10 Time:  0:00:10\n",
      "100% (30 of 30) |########################| Elapsed Time: 0:00:10 Time:  0:00:10\n",
      "100% (30 of 30) |########################| Elapsed Time: 0:00:10 Time:  0:00:10\n",
      " 96% (29 of 30) |####################### | Elapsed Time: 0:00:10 ETA:   0:00:00"
     ]
    }
   ],
   "source": [
    "for nodes_number in [100]:\n",
    "    physical_layer = nx.barabasi_albert_graph(nodes_number, 5)\n",
    "    hidden_layer = physical_layer.copy()\n",
    "    for i in range(400):\n",
    "        hidden_layer = random_edge(hidden_layer)\n",
    "    multiplex_network = multiplex_network(nodes_number, physical_layer, hidden_layer)\n",
    "    model = MarkovModel(nodes_number, multiplex_network,  rho=0.2)\n",
    "    model.set_level(2)\n",
    "    model.set_factor(0.01)\n",
    "    for physical_prob in np.linspace(0, 1, 5):\n",
    "        model.set_physical_trans_prob(physical_prob)\n",
    "        for hidden_prob in np.linspace(0, 1, 5):\n",
    "            model.set_hidden_trans_prob(hidden_prob)\n",
    "            for infectivity in np.linspace(0, 1, 20):\n",
    "                model.set_infectivity(infectivity)\n",
    "                for _lambda in np.linspace(0, 1, 10):\n",
    "                    model.set_lambda(_lambda)\n",
    "                    reasult = {\"nodes\": nodes_number, \"rho\": 0.2,\n",
    "                        \"network\": \"barabassi\", \"beta\": infectivity, \n",
    "                        \"lambda\": _lambda, \"factor\": 0.01,\n",
    "                        \"physical_infectivity\": physical_prob,\n",
    "                        \"hidden_infectivity\": hidden_prob,\n",
    "                        \"aware\": 0, \"infected\": 0\n",
    "                        }\n",
    "                    model.init_simulation()\n",
    "                    model.run()\n",
    "                    reasult[\"infected\"] = np.mean(model.I_t)/nodes_number\n",
    "                    reasult[\"aware\"] = np.mean(model.A_t)/nodes_number \n",
    "                    try:\n",
    "                        with open(r\"experiment3.csv\", \"a\") as csvfile:\n",
    "                            writer = csv.DictWriter(csvfile, fieldnames=column_names)\n",
    "                            writer.writerow(reasult)\n",
    "                    except IOError:\n",
    "                        print(\"I/O error\")"
   ]
  },
  {
   "cell_type": "code",
   "execution_count": 5,
   "metadata": {
    "tags": []
   },
   "outputs": [],
   "source": [
    "# for nodes_number in [100, 1000]:\n",
    "#     physical_layer = nx.barabasi_albert_graph(nodes_number, 5)\n",
    "#     hidden_layer = physical_layer.copy()\n",
    "#     for i in range(400):\n",
    "#         hidden_layer = random_edge(hidden_layer)\n",
    "#     multiplex_network = multiplex_network(nodes_number, physical_layer, hidden_layer)\n",
    "#     model = MarkovModel(nodes_number, multiplex_network,  rho=0.2)\n",
    "#     model.set_level(2)\n",
    "#     model.set_factor(0.01)\n",
    "#     for physical_prob in np.linspace(0, 1, 5):\n",
    "#         model.set_physical_trans_prob(physical_prob)\n",
    "#         for hidden_prob in np.linspace(0, 1, 5):\n",
    "#             model.set_hidden_trans_prob(hidden_prob)\n",
    "#             for infectivity in np.linspace(0, 1, 20):\n",
    "#                 model.set_infectivity(infectivity)\n",
    "#                 for _lambda in np.linspace(0, 1, 10):\n",
    "#                     model.set_lambda(_lambda)\n",
    "#                     reasult = {\"nodes\": nodes_number, \"rho\": 0.2, \"network\": \"barabassi\", \"factor\": 0.01,\n",
    "#                                 \"beta\": infectivity, \"lambda\": _lambda, \"physical_infectivity\": physical_prob,\n",
    "#                                 \"hidden_infectivity\": hidden_prob, \"aware\": 0, \"infected\": 0}\n",
    "#                     model.init_simulation()\n",
    "#                     model.run()\n",
    "#                     reasult[\"infected\"] = np.mean(model.I_t)/nodes_number\n",
    "#                     reasult[\"aware\"] = np.mean(model.A_t)/nodes_number\n",
    "#                     writer = csv.DictWriter(csvfile, fieldnames=column_names)\n",
    "#                     writer.writerow(reasult)"
   ]
  },
  {
   "cell_type": "code",
   "execution_count": 6,
   "metadata": {},
   "outputs": [],
   "source": [
    "# df.to_csv(\"experiment3.csv\")"
   ]
  },
  {
   "cell_type": "code",
   "execution_count": 3,
   "metadata": {},
   "outputs": [
    {
     "output_type": "stream",
     "name": "stderr",
     "text": [
      "100% (30 of 30) |########################| Elapsed Time: 0:00:39 Time:  0:00:39\n",
      "100% (30 of 30) |########################| Elapsed Time: 0:00:41 Time:  0:00:41\n",
      "100% (30 of 30) |########################| Elapsed Time: 0:00:35 Time:  0:00:35\n",
      "100% (30 of 30) |########################| Elapsed Time: 0:00:50 Time:  0:00:50\n",
      "100% (30 of 30) |########################| Elapsed Time: 0:00:32 Time:  0:00:32\n",
      "100% (30 of 30) |########################| Elapsed Time: 0:00:34 Time:  0:00:34\n",
      "100% (30 of 30) |########################| Elapsed Time: 0:00:23 Time:  0:00:23\n",
      "100% (30 of 30) |########################| Elapsed Time: 0:00:48 Time:  0:00:48\n",
      "100% (30 of 30) |########################| Elapsed Time: 0:00:41 Time:  0:00:41\n",
      "100% (30 of 30) |########################| Elapsed Time: 0:00:57 Time:  0:00:57\n",
      "100% (30 of 30) |########################| Elapsed Time: 0:01:16 Time:  0:01:16\n",
      "100% (30 of 30) |########################| Elapsed Time: 0:01:19 Time:  0:01:19\n",
      "100% (30 of 30) |########################| Elapsed Time: 0:01:10 Time:  0:01:10\n",
      "100% (30 of 30) |########################| Elapsed Time: 0:01:20 Time:  0:01:20\n",
      "100% (30 of 30) |########################| Elapsed Time: 0:01:25 Time:  0:01:25\n",
      "100% (30 of 30) |########################| Elapsed Time: 0:01:23 Time:  0:01:23\n",
      "100% (30 of 30) |########################| Elapsed Time: 0:01:21 Time:  0:01:21\n",
      "100% (30 of 30) |########################| Elapsed Time: 0:01:32 Time:  0:01:32\n",
      "100% (30 of 30) |########################| Elapsed Time: 0:01:34 Time:  0:01:34\n",
      "100% (30 of 30) |########################| Elapsed Time: 0:01:18 Time:  0:01:18\n",
      "100% (30 of 30) |########################| Elapsed Time: 0:00:37 Time:  0:00:37\n",
      "100% (30 of 30) |########################| Elapsed Time: 0:00:44 Time:  0:00:44\n",
      "100% (30 of 30) |########################| Elapsed Time: 0:00:48 Time:  0:00:48\n",
      "100% (30 of 30) |########################| Elapsed Time: 0:00:38 Time:  0:00:38\n",
      "100% (30 of 30) |########################| Elapsed Time: 0:00:43 Time:  0:00:43\n",
      "100% (30 of 30) |########################| Elapsed Time: 0:00:42 Time:  0:00:42\n",
      "100% (30 of 30) |########################| Elapsed Time: 0:00:40 Time:  0:00:40\n",
      "100% (30 of 30) |########################| Elapsed Time: 0:00:45 Time:  0:00:45\n",
      "100% (30 of 30) |########################| Elapsed Time: 0:00:39 Time:  0:00:39\n",
      "100% (30 of 30) |########################| Elapsed Time: 0:00:41 Time:  0:00:41\n",
      "100% (30 of 30) |########################| Elapsed Time: 0:00:28 Time:  0:00:28\n",
      "100% (30 of 30) |########################| Elapsed Time: 0:00:32 Time:  0:00:32\n",
      "100% (30 of 30) |########################| Elapsed Time: 0:00:28 Time:  0:00:28\n",
      "100% (30 of 30) |########################| Elapsed Time: 0:00:39 Time:  0:00:39\n",
      "100% (30 of 30) |########################| Elapsed Time: 0:00:32 Time:  0:00:32\n",
      "100% (30 of 30) |########################| Elapsed Time: 0:00:31 Time:  0:00:31\n",
      " 86% (26 of 30) |####################    | Elapsed Time: 0:00:33 ETA:   0:00:02"
     ]
    }
   ],
   "source": [
    "# for nodes_number in [100]:\n",
    "#     physical_layer = nx.barabasi_albert_graph(nodes_number, 5)\n",
    "#     hidden_layer = physical_layer.copy()\n",
    "#     for i in range(400):\n",
    "#         hidden_layer = random_edge(hidden_layer)\n",
    "#     model = MarkovModel(nodes_number, physical_layer, hidden_layer, rho=0.2)\n",
    "#     model.set_level(2)\n",
    "#     model.set_factor(0.01)\n",
    "#     for physical_prob in np.linspace(0, 1, 5):\n",
    "#         model.set_physical_trans_prob(physical_prob)\n",
    "#         for hidden_prob in np.linspace(0, 1, 5):\n",
    "#             model.set_hidden_trans_prob(hidden_prob)\n",
    "#             for infectivity in np.linspace(0, 1, 20):\n",
    "#                 model.set_infectivity(infectivity)\n",
    "#                 for _lambda in np.linspace(0, 1, 10):\n",
    "#                     model.set_lambda(_lambda)\n",
    "#                     reasult = {\"nodes\": nodes_number, \"rho\": 0.2, \"network\": \"barabassi\", \"factor\": 0.01,\n",
    "#                                 \"beta\": infectivity, \"lambda\": _lambda, \"physical_infectivity\": 0.4,\n",
    "#                                 \"hidden_infectivity\": 0.6, \"aware\": 0, \"infected\": 0}\n",
    "#                     model.init_simulation()\n",
    "#                     model.run()\n",
    "#                     reasult[\"infected\"] = np.mean(model.I_t)/nodes_number\n",
    "#                     reasult[\"aware\"] = np.mean(model.A_t)/nodes_number\n",
    "#                     df = df.append(reasult, ignore_index=True)\n",
    "        "
   ]
  },
  {
   "cell_type": "code",
   "execution_count": 6,
   "metadata": {},
   "outputs": [],
   "source": [
    "# df.to_csv(\"experiment.csv\")"
   ]
  },
  {
   "cell_type": "code",
   "execution_count": 7,
   "metadata": {},
   "outputs": [],
   "source": [
    "    # for physical_prob in np.linspace(0, 1, 5):\n",
    "    #     model.set_physical_trans_prob(physical_prob)\n",
    "    #     for hidden_prob in np.linspace(0, 1, 5):\n",
    "    #         model.set_hidden_trans_prob(hidden_prob)"
   ]
  }
 ]
}