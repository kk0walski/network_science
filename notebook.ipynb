{
 "metadata": {
  "language_info": {
   "codemirror_mode": {
    "name": "ipython",
    "version": 3
   },
   "file_extension": ".py",
   "mimetype": "text/x-python",
   "name": "python",
   "nbconvert_exporter": "python",
   "pygments_lexer": "ipython3",
   "version": "3.8.5"
  },
  "orig_nbformat": 2,
  "kernelspec": {
   "name": "python385jvsc74a57bd0a1d13af8f65c10d3cee31cf71dc414b5280c701d65442de8bd0a89a2df9fa7bb",
   "display_name": "Python 3.8.5 64-bit ('venv': venv)"
  },
  "metadata": {
   "interpreter": {
    "hash": "a1d13af8f65c10d3cee31cf71dc414b5280c701d65442de8bd0a89a2df9fa7bb"
   }
  }
 },
 "nbformat": 4,
 "nbformat_minor": 2,
 "cells": [
  {
   "cell_type": "code",
   "execution_count": 1,
   "metadata": {},
   "outputs": [],
   "source": [
    "import csv\n",
    "import progressbar\n",
    "import numpy as np\n",
    "import pandas as pd\n",
    "import networkx as nx\n",
    "from dictonaryModel import random_edge, MarkovModel, multiplex_network, from_file\n",
    "# from pymnetModel import MarkovModel"
   ]
  },
  {
   "cell_type": "code",
   "execution_count": 2,
   "metadata": {},
   "outputs": [],
   "source": [
    "column_names = [\"nodes\", \"rho\", \"network\", \"beta\", \"lambda\", \"factor\", \"physical_infectivity\", \"hidden_infectivity\", \"aware\", \"infected\"]"
   ]
  },
  {
   "cell_type": "code",
   "execution_count": 3,
   "metadata": {},
   "outputs": [],
   "source": [
    "try:\n",
    "    with open(r\"experiment6.csv\", \"a\", newline='') as csvfile:\n",
    "        writer = csv.DictWriter(csvfile, fieldnames=column_names)\n",
    "        writer.writeheader()\n",
    "except IOError:\n",
    "    print(\"I/O error\")"
   ]
  },
  {
   "cell_type": "code",
   "execution_count": 3,
   "metadata": {
    "tags": []
   },
   "outputs": [
    {
     "output_type": "stream",
     "name": "stderr",
     "text": [
      "N/A% (0 of 11) |                         | Elapsed Time: 0:00:00 ETA:  --:--:--"
     ]
    },
    {
     "output_type": "error",
     "ename": "NameError",
     "evalue": "name 'neighbour' is not defined",
     "traceback": [
      "\u001b[0;31m---------------------------------------------------------------------------\u001b[0m",
      "\u001b[0;31mRemoteTraceback\u001b[0m                           Traceback (most recent call last)",
      "\u001b[0;31mRemoteTraceback\u001b[0m: \n\"\"\"\nTraceback (most recent call last):\n  File \"/usr/lib/python3.8/multiprocessing/pool.py\", line 125, in worker\n    result = (True, func(*args, **kwds))\n  File \"/usr/lib/python3.8/multiprocessing/pool.py\", line 48, in mapstar\n    return list(map(*args))\n  File \"/home/karol/Dokumenty/network_science/dictonaryModel.py\", line 319, in hidden_chain\n    hidden_status, physical_status = self.markov_chain_US(node)\n  File \"/home/karol/Dokumenty/network_science/dictonaryModel.py\", line 258, in markov_chain_US\n    prob_r = self.r_prob(0, node, neighbour)\nNameError: name 'neighbour' is not defined\n\"\"\"",
      "\nThe above exception was the direct cause of the following exception:\n",
      "\u001b[0;31mNameError\u001b[0m                                 Traceback (most recent call last)",
      "\u001b[0;32m<ipython-input-3-d41ae3b30a8d>\u001b[0m in \u001b[0;36m<module>\u001b[0;34m\u001b[0m\n\u001b[1;32m     25\u001b[0m                         }\n\u001b[1;32m     26\u001b[0m                     \u001b[0mmodel\u001b[0m\u001b[0;34m.\u001b[0m\u001b[0minit_simulation\u001b[0m\u001b[0;34m(\u001b[0m\u001b[0;34m)\u001b[0m\u001b[0;34m\u001b[0m\u001b[0;34m\u001b[0m\u001b[0m\n\u001b[0;32m---> 27\u001b[0;31m                     \u001b[0mmodel\u001b[0m\u001b[0;34m.\u001b[0m\u001b[0mrun\u001b[0m\u001b[0;34m(\u001b[0m\u001b[0;34m)\u001b[0m\u001b[0;34m\u001b[0m\u001b[0;34m\u001b[0m\u001b[0m\n\u001b[0m\u001b[1;32m     28\u001b[0m                     \u001b[0mreasult\u001b[0m\u001b[0;34m[\u001b[0m\u001b[0;34m\"infected\"\u001b[0m\u001b[0;34m]\u001b[0m \u001b[0;34m=\u001b[0m \u001b[0mnp\u001b[0m\u001b[0;34m.\u001b[0m\u001b[0mmean\u001b[0m\u001b[0;34m(\u001b[0m\u001b[0mnp\u001b[0m\u001b[0;34m.\u001b[0m\u001b[0marray\u001b[0m\u001b[0;34m(\u001b[0m\u001b[0mmodel\u001b[0m\u001b[0;34m.\u001b[0m\u001b[0mI_t\u001b[0m\u001b[0;34m)\u001b[0m \u001b[0;34m/\u001b[0m \u001b[0mnodes_number\u001b[0m\u001b[0;34m)\u001b[0m\u001b[0;34m\u001b[0m\u001b[0;34m\u001b[0m\u001b[0m\n\u001b[1;32m     29\u001b[0m                     \u001b[0mreasult\u001b[0m\u001b[0;34m[\u001b[0m\u001b[0;34m\"aware\"\u001b[0m\u001b[0;34m]\u001b[0m \u001b[0;34m=\u001b[0m \u001b[0mnp\u001b[0m\u001b[0;34m.\u001b[0m\u001b[0mmean\u001b[0m\u001b[0;34m(\u001b[0m\u001b[0mnp\u001b[0m\u001b[0;34m.\u001b[0m\u001b[0marray\u001b[0m\u001b[0;34m(\u001b[0m\u001b[0mmodel\u001b[0m\u001b[0;34m.\u001b[0m\u001b[0mA_t\u001b[0m\u001b[0;34m)\u001b[0m \u001b[0;34m/\u001b[0m \u001b[0mnodes_number\u001b[0m\u001b[0;34m)\u001b[0m\u001b[0;34m\u001b[0m\u001b[0;34m\u001b[0m\u001b[0m\n",
      "\u001b[0;32m~/Dokumenty/network_science/dictonaryModel.py\u001b[0m in \u001b[0;36mrun\u001b[0;34m(self, processes)\u001b[0m\n\u001b[1;32m    389\u001b[0m         \u001b[0mall_nodes\u001b[0m \u001b[0;34m=\u001b[0m \u001b[0mlist\u001b[0m\u001b[0;34m(\u001b[0m\u001b[0mself\u001b[0m\u001b[0;34m.\u001b[0m\u001b[0mnetwork\u001b[0m\u001b[0;34m.\u001b[0m\u001b[0mkeys\u001b[0m\u001b[0;34m(\u001b[0m\u001b[0;34m)\u001b[0m\u001b[0;34m)\u001b[0m\u001b[0;34m\u001b[0m\u001b[0;34m\u001b[0m\u001b[0m\n\u001b[1;32m    390\u001b[0m         \u001b[0;32mfor\u001b[0m \u001b[0mi\u001b[0m \u001b[0;32min\u001b[0m \u001b[0mrange\u001b[0m\u001b[0;34m(\u001b[0m\u001b[0mself\u001b[0m\u001b[0;34m.\u001b[0m\u001b[0mtmin\u001b[0m\u001b[0;34m,\u001b[0m \u001b[0mself\u001b[0m\u001b[0;34m.\u001b[0m\u001b[0mtmax\u001b[0m\u001b[0;34m)\u001b[0m\u001b[0;34m:\u001b[0m\u001b[0;34m\u001b[0m\u001b[0;34m\u001b[0m\u001b[0m\n\u001b[0;32m--> 391\u001b[0;31m             \u001b[0mself\u001b[0m\u001b[0;34m.\u001b[0m\u001b[0mrun_chain\u001b[0m\u001b[0;34m(\u001b[0m\u001b[0mall_nodes\u001b[0m\u001b[0;34m,\u001b[0m \u001b[0mprocesses\u001b[0m\u001b[0;34m,\u001b[0m \u001b[0mlen\u001b[0m\u001b[0;34m(\u001b[0m\u001b[0mall_nodes\u001b[0m\u001b[0;34m)\u001b[0m\u001b[0;34m)\u001b[0m\u001b[0;34m\u001b[0m\u001b[0;34m\u001b[0m\u001b[0m\n\u001b[0m\u001b[1;32m    392\u001b[0m             \u001b[0mself\u001b[0m\u001b[0;34m.\u001b[0m\u001b[0mtimes\u001b[0m\u001b[0;34m.\u001b[0m\u001b[0mappend\u001b[0m\u001b[0;34m(\u001b[0m\u001b[0mi\u001b[0m\u001b[0;34m)\u001b[0m\u001b[0;34m\u001b[0m\u001b[0;34m\u001b[0m\u001b[0m\n\u001b[1;32m    393\u001b[0m \u001b[0;34m\u001b[0m\u001b[0m\n",
      "\u001b[0;32m~/Dokumenty/network_science/dictonaryModel.py\u001b[0m in \u001b[0;36mrun_chain\u001b[0;34m(self, nodes, processes, nodes_number)\u001b[0m\n\u001b[1;32m    368\u001b[0m \u001b[0;34m\u001b[0m\u001b[0m\n\u001b[1;32m    369\u001b[0m             \u001b[0;32mwith\u001b[0m \u001b[0mmp\u001b[0m\u001b[0;34m.\u001b[0m\u001b[0mPool\u001b[0m\u001b[0;34m(\u001b[0m\u001b[0mprocesses\u001b[0m\u001b[0;34m=\u001b[0m\u001b[0;34m(\u001b[0m\u001b[0;36m10\u001b[0m\u001b[0;34m)\u001b[0m\u001b[0;34m)\u001b[0m \u001b[0;32mas\u001b[0m \u001b[0mpool\u001b[0m\u001b[0;34m:\u001b[0m\u001b[0;34m\u001b[0m\u001b[0;34m\u001b[0m\u001b[0m\n\u001b[0;32m--> 370\u001b[0;31m                 for node, hidden_status, physical_status in pool.imap_unordered(\n\u001b[0m\u001b[1;32m    371\u001b[0m                     \u001b[0mself\u001b[0m\u001b[0;34m.\u001b[0m\u001b[0mhidden_chain\u001b[0m\u001b[0;34m,\u001b[0m \u001b[0mexam_nodes\u001b[0m\u001b[0;34m,\u001b[0m \u001b[0mchunksize\u001b[0m\u001b[0;34m=\u001b[0m\u001b[0;36m10\u001b[0m\u001b[0;34m\u001b[0m\u001b[0;34m\u001b[0m\u001b[0m\n\u001b[1;32m    372\u001b[0m                 ):\n",
      "\u001b[0;32m/usr/lib/python3.8/multiprocessing/pool.py\u001b[0m in \u001b[0;36m<genexpr>\u001b[0;34m(.0)\u001b[0m\n\u001b[1;32m    446\u001b[0m                     \u001b[0mresult\u001b[0m\u001b[0;34m.\u001b[0m\u001b[0m_set_length\u001b[0m\u001b[0;34m\u001b[0m\u001b[0;34m\u001b[0m\u001b[0m\n\u001b[1;32m    447\u001b[0m                 ))\n\u001b[0;32m--> 448\u001b[0;31m             \u001b[0;32mreturn\u001b[0m \u001b[0;34m(\u001b[0m\u001b[0mitem\u001b[0m \u001b[0;32mfor\u001b[0m \u001b[0mchunk\u001b[0m \u001b[0;32min\u001b[0m \u001b[0mresult\u001b[0m \u001b[0;32mfor\u001b[0m \u001b[0mitem\u001b[0m \u001b[0;32min\u001b[0m \u001b[0mchunk\u001b[0m\u001b[0;34m)\u001b[0m\u001b[0;34m\u001b[0m\u001b[0;34m\u001b[0m\u001b[0m\n\u001b[0m\u001b[1;32m    449\u001b[0m \u001b[0;34m\u001b[0m\u001b[0m\n\u001b[1;32m    450\u001b[0m     def apply_async(self, func, args=(), kwds={}, callback=None,\n",
      "\u001b[0;32m/usr/lib/python3.8/multiprocessing/pool.py\u001b[0m in \u001b[0;36mnext\u001b[0;34m(self, timeout)\u001b[0m\n\u001b[1;32m    866\u001b[0m         \u001b[0;32mif\u001b[0m \u001b[0msuccess\u001b[0m\u001b[0;34m:\u001b[0m\u001b[0;34m\u001b[0m\u001b[0;34m\u001b[0m\u001b[0m\n\u001b[1;32m    867\u001b[0m             \u001b[0;32mreturn\u001b[0m \u001b[0mvalue\u001b[0m\u001b[0;34m\u001b[0m\u001b[0;34m\u001b[0m\u001b[0m\n\u001b[0;32m--> 868\u001b[0;31m         \u001b[0;32mraise\u001b[0m \u001b[0mvalue\u001b[0m\u001b[0;34m\u001b[0m\u001b[0;34m\u001b[0m\u001b[0m\n\u001b[0m\u001b[1;32m    869\u001b[0m \u001b[0;34m\u001b[0m\u001b[0m\n\u001b[1;32m    870\u001b[0m     \u001b[0m__next__\u001b[0m \u001b[0;34m=\u001b[0m \u001b[0mnext\u001b[0m                    \u001b[0;31m# XXX\u001b[0m\u001b[0;34m\u001b[0m\u001b[0;34m\u001b[0m\u001b[0m\n",
      "\u001b[0;31mNameError\u001b[0m: name 'neighbour' is not defined"
     ]
    }
   ],
   "source": [
    "for network_name in [\"infectious\"]:\n",
    "    physical_layer = from_file(network_name)\n",
    "    nodes_number = len(physical_layer.nodes())\n",
    "    hidden_layer = physical_layer.copy()\n",
    "    for i in range(400):\n",
    "        hidden_layer = random_edge(hidden_layer)\n",
    "    network = multiplex_network(nodes_number, physical_layer, hidden_layer)\n",
    "    model = MarkovModel(nodes_number, network,  rho=0.2)\n",
    "    model.set_level(1)\n",
    "    model.set_factor(0.01)\n",
    "    for physical_prob in np.round(np.linspace(0, 1, 11), 2):\n",
    "        model.set_physical_trans_prob(physical_prob)\n",
    "        for hidden_prob in np.round(np.linspace(0, 1, 11), 2):\n",
    "            model.set_hidden_trans_prob(hidden_prob)\n",
    "            for infectivity in progressbar.progressbar(np.round(np.linspace(0,1,11), 2)):\n",
    "                model.set_infectivity(infectivity)\n",
    "                for _lambda in np.round(np.linspace(0,1,11), 2):\n",
    "                    model.set_lambda(_lambda)\n",
    "                    reasult = {\"nodes\": len(physical_layer.nodes()), \"rho\": 0.2,\n",
    "                        \"network\": network_name, \"beta\": infectivity, \n",
    "                        \"lambda\": _lambda, \"factor\": 0.01,\n",
    "                        \"physical_infectivity\": physical_prob,\n",
    "                        \"hidden_infectivity\": hidden_prob,\n",
    "                        \"aware\": 0, \"infected\": 0\n",
    "                        }\n",
    "                    model.init_simulation()\n",
    "                    model.run()\n",
    "                    reasult[\"infected\"] = np.mean(np.array(model.I_t) / nodes_number)\n",
    "                    reasult[\"aware\"] = np.mean(np.array(model.A_t) / nodes_number) \n",
    "                    try:\n",
    "                        with open(r\"experiment6.csv\", \"a\") as csvfile:\n",
    "                            writer = csv.DictWriter(csvfile, fieldnames=column_names)\n",
    "                            writer.writerow(reasult)\n",
    "                    except IOError:\n",
    "                        print(\"I/O error\")"
   ]
  },
  {
   "cell_type": "code",
   "execution_count": 5,
   "metadata": {
    "tags": []
   },
   "outputs": [],
   "source": [
    "# for nodes_number in [100, 1000]:\n",
    "#     physical_layer = nx.barabasi_albert_graph(nodes_number, 5)\n",
    "#     hidden_layer = physical_layer.copy()\n",
    "#     for i in range(400):\n",
    "#         hidden_layer = random_edge(hidden_layer)\n",
    "#     multiplex_network = multiplex_network(nodes_number, physical_layer, hidden_layer)\n",
    "#     model = MarkovModel(nodes_number, multiplex_network,  rho=0.2)\n",
    "#     model.set_level(2)\n",
    "#     model.set_factor(0.01)\n",
    "#     for physical_prob in np.linspace(0, 1, 5):\n",
    "#         model.set_physical_trans_prob(physical_prob)\n",
    "#         for hidden_prob in np.linspace(0, 1, 5):\n",
    "#             model.set_hidden_trans_prob(hidden_prob)\n",
    "#             for infectivity in np.linspace(0, 1, 20):\n",
    "#                 model.set_infectivity(infectivity)\n",
    "#                 for _lambda in np.linspace(0, 1, 10):\n",
    "#                     model.set_lambda(_lambda)\n",
    "#                     reasult = {\"nodes\": nodes_number, \"rho\": 0.2, \"network\": \"barabassi\", \"factor\": 0.01,\n",
    "#                                 \"beta\": infectivity, \"lambda\": _lambda, \"physical_infectivity\": physical_prob,\n",
    "#                                 \"hidden_infectivity\": hidden_prob, \"aware\": 0, \"infected\": 0}\n",
    "#                     model.init_simulation()\n",
    "#                     model.run()\n",
    "#                     reasult[\"infected\"] = np.mean(model.I_t)/nodes_number\n",
    "#                     reasult[\"aware\"] = np.mean(model.A_t)/nodes_number\n",
    "#                     writer = csv.DictWriter(csvfile, fieldnames=column_names)\n",
    "#                     writer.writerow(reasult)"
   ]
  },
  {
   "cell_type": "code",
   "execution_count": 6,
   "metadata": {},
   "outputs": [],
   "source": [
    "# df.to_csv(\"experiment3.csv\")"
   ]
  },
  {
   "cell_type": "code",
   "execution_count": 7,
   "metadata": {},
   "outputs": [],
   "source": [
    "# for nodes_number in [100]:\n",
    "#     physical_layer = nx.barabasi_albert_graph(nodes_number, 5)\n",
    "#     hidden_layer = physical_layer.copy()\n",
    "#     for i in range(400):\n",
    "#         hidden_layer = random_edge(hidden_layer)\n",
    "#     model = MarkovModel(nodes_number, physical_layer, hidden_layer, rho=0.2)\n",
    "#     model.set_level(2)\n",
    "#     model.set_factor(0.01)\n",
    "#     for physical_prob in np.linspace(0, 1, 5):\n",
    "#         model.set_physical_trans_prob(physical_prob)\n",
    "#         for hidden_prob in np.linspace(0, 1, 5):\n",
    "#             model.set_hidden_trans_prob(hidden_prob)\n",
    "#             for infectivity in np.linspace(0, 1, 20):\n",
    "#                 model.set_infectivity(infectivity)\n",
    "#                 for _lambda in np.linspace(0, 1, 10):\n",
    "#                     model.set_lambda(_lambda)\n",
    "#                     reasult = {\"nodes\": nodes_number, \"rho\": 0.2, \"network\": \"barabassi\", \"factor\": 0.01,\n",
    "#                                 \"beta\": infectivity, \"lambda\": _lambda, \"physical_infectivity\": 0.4,\n",
    "#                                 \"hidden_infectivity\": 0.6, \"aware\": 0, \"infected\": 0}\n",
    "#                     model.init_simulation()\n",
    "#                     model.run()\n",
    "#                     reasult[\"infected\"] = np.mean(model.I_t)/nodes_number\n",
    "#                     reasult[\"aware\"] = np.mean(model.A_t)/nodes_number\n",
    "#                     df = df.append(reasult, ignore_index=True)\n",
    "        "
   ]
  },
  {
   "cell_type": "code",
   "execution_count": 8,
   "metadata": {},
   "outputs": [],
   "source": [
    "# df.to_csv(\"experiment.csv\")"
   ]
  },
  {
   "cell_type": "code",
   "execution_count": 9,
   "metadata": {},
   "outputs": [],
   "source": [
    "    # for physical_prob in np.linspace(0, 1, 5):\n",
    "    #     model.set_physical_trans_prob(physical_prob)\n",
    "    #     for hidden_prob in np.linspace(0, 1, 5):\n",
    "    #         model.set_hidden_trans_prob(hidden_prob)"
   ]
  }
 ]
}