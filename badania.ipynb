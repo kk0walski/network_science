{
 "metadata": {
  "language_info": {
   "codemirror_mode": {
    "name": "ipython",
    "version": 3
   },
   "file_extension": ".py",
   "mimetype": "text/x-python",
   "name": "python",
   "nbconvert_exporter": "python",
   "pygments_lexer": "ipython3",
   "version": "3.8.5"
  },
  "orig_nbformat": 2,
  "kernelspec": {
   "name": "python385jvsc74a57bd0a1d13af8f65c10d3cee31cf71dc414b5280c701d65442de8bd0a89a2df9fa7bb",
   "display_name": "Python 3.8.5 64-bit ('venv': venv)"
  },
  "metadata": {
   "interpreter": {
    "hash": "a1d13af8f65c10d3cee31cf71dc414b5280c701d65442de8bd0a89a2df9fa7bb"
   }
  }
 },
 "nbformat": 4,
 "nbformat_minor": 2,
 "cells": [
  {
   "cell_type": "code",
   "execution_count": 1,
   "metadata": {},
   "outputs": [],
   "source": [
    "%matplotlib widget\n",
    "import ipywidgets as widgets\n",
    "import numpy as np\n",
    "import pandas as pd\n",
    "import seaborn as sns\n",
    "import matplotlib.pyplot as plt"
   ]
  },
  {
   "cell_type": "code",
   "execution_count": 2,
   "metadata": {},
   "outputs": [],
   "source": [
    "data = pd.read_csv(\"pomiary.csv\")\n",
    "data = data.round(2)"
   ]
  },
  {
   "cell_type": "code",
   "execution_count": 3,
   "metadata": {},
   "outputs": [
    {
     "output_type": "display_data",
     "data": {
      "text/plain": "interactive(children=(FloatSlider(value=0.4, description='hidden_infectivity', max=1.0), FloatSlider(value=0.6…",
      "application/vnd.jupyter.widget-view+json": {
       "version_major": 2,
       "version_minor": 0,
       "model_id": "8529290f4af74d279d905a2a847572d5"
      }
     },
     "metadata": {}
    }
   ],
   "source": [
    "@widgets.interact(hidden_infectivity=(0,1,0.1), physical_infectivity=(0,1,0.1), nodes_number=[40, 70, 100, 410, 1000])\n",
    "def ploting(hidden_infectivity=0.4, physical_infectivity=0.6, nodes_number=100):\n",
    "    df = data.loc[(data['hidden_infectivity'] == hidden_infectivity) & (data['physical_infectivity'] == physical_infectivity) & (data['nodes'] == nodes_number)]\n",
    "    test = df[['beta', 'lambda', 'aware', 'infected']]\n",
    "    aware_pivot = test.pivot(columns='beta', index='lambda', values='aware')\n",
    "    deriv_aware = aware_pivot.diff(periods=1, axis=1)\n",
    "    infected_pivot = test.pivot(columns='beta', index='lambda', values='infected')\n",
    "    deriv_infected = infected_pivot.diff(periods=1, axis=1)\n",
    "    fig, axes = plt.subplots(2, 2, figsize=(12,12))\n",
    "    fig.suptitle(f\"Reasult of model for network with {nodes_number} nodes unawere probability {hidden_infectivity} and recover probability {physical_infectivity}\")\n",
    "    sns.heatmap(aware_pivot, annot=True, vmax=aware_pivot.max().max(), vmin=aware_pivot.min().min(), cmap=\"YlOrRd\", ax=axes[0, 0])\n",
    "    axes[0, 0].set_title('Probability of being aware')\n",
    "    sns.heatmap(deriv_aware, annot=True, vmax=deriv_aware.max().max(), vmin=deriv_aware.min().min(), ax=axes[0, 1])\n",
    "    axes[0, 1].set_title('Derivation of being aware')\n",
    "    sns.heatmap(infected_pivot, annot=True, vmax=infected_pivot.max().max(), vmin=infected_pivot.min().min(), cmap=\"YlOrRd\", ax=axes[1, 0])\n",
    "    axes[1, 0].set_title('Probability of being infected')\n",
    "    sns.heatmap(deriv_infected, annot=True, vmax=deriv_infected.max().max(), vmin=deriv_infected.min().min(), ax=axes[1, 1])\n",
    "    axes[1, 1].set_title('Derivation of being infected')\n",
    "    plt.tight_layout()"
   ]
  },
  {
   "cell_type": "code",
   "execution_count": null,
   "metadata": {},
   "outputs": [],
   "source": []
  }
 ]
}