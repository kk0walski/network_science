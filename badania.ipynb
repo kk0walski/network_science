{
 "metadata": {
  "language_info": {
   "codemirror_mode": {
    "name": "ipython",
    "version": 3
   },
   "file_extension": ".py",
   "mimetype": "text/x-python",
   "name": "python",
   "nbconvert_exporter": "python",
   "pygments_lexer": "ipython3",
   "version": "3.8.5"
  },
  "orig_nbformat": 2,
  "kernelspec": {
   "name": "python385jvsc74a57bd0a1d13af8f65c10d3cee31cf71dc414b5280c701d65442de8bd0a89a2df9fa7bb",
   "display_name": "Python 3.8.5 64-bit ('venv': venv)"
  },
  "metadata": {
   "interpreter": {
    "hash": "a1d13af8f65c10d3cee31cf71dc414b5280c701d65442de8bd0a89a2df9fa7bb"
   }
  }
 },
 "nbformat": 4,
 "nbformat_minor": 2,
 "cells": [
  {
   "cell_type": "code",
   "execution_count": 1,
   "metadata": {},
   "outputs": [],
   "source": [
    "import pandas as pd\n",
    "import seaborn as sns\n",
    "from ipywidgets import interactive\n",
    "%matplotlib inline"
   ]
  },
  {
   "cell_type": "code",
   "execution_count": 2,
   "metadata": {},
   "outputs": [],
   "source": [
    "data = pd.read_csv(\"experiment4.csv\")\n",
    "data = data.round(2)"
   ]
  },
  {
   "cell_type": "code",
   "execution_count": 3,
   "metadata": {},
   "outputs": [],
   "source": [
    "def get_data(hidden_infectivity, physical_infectivity, nodes_number=100, chosen_value=\"aware\"):\n",
    "    df = data.loc[(data['hidden_infectivity'] == hidden_infectivity) & (data['physical_infectivity'] == physical_infectivity) & (data['nodes'] == nodes_number)]\n",
    "    test = df[['beta', 'lambda', 'aware', 'infected']]\n",
    "    test_pivot = test.pivot(columns='beta', index='lambda', values=chosen_value)\n",
    "    return test_pivot\n",
    "\n",
    "def ploting(hidden_infectivity=0.4, physical_infectivity=0.6, nodes_number=100, chosen_value=\"aware\"):\n",
    "    z = get_data(hidden_infectivity, physical_infectivity, nodes_number, chosen_value)\n",
    "    ax = sns.heatmap(z, annot=True, cmap=\"YlOrRd\")\n",
    "\n",
    "interactive_plot = interactive(ploting, hidden_infectivity=(0,1,0.1), physical_infectivity=(0,1,0.1), nodes_number=[100, 1000], chosen_value=[\"aware\", \"infected\"])"
   ]
  },
  {
   "cell_type": "code",
   "execution_count": 4,
   "metadata": {},
   "outputs": [
    {
     "output_type": "display_data",
     "data": {
      "text/plain": "interactive(children=(FloatSlider(value=0.4, description='hidden_infectivity', max=1.0), FloatSlider(value=0.6…",
      "application/vnd.jupyter.widget-view+json": {
       "version_major": 2,
       "version_minor": 0,
       "model_id": "2fd26ae960e740db9b2021d1445210b7"
      }
     },
     "metadata": {}
    }
   ],
   "source": [
    "interactive_plot"
   ]
  },
  {
   "cell_type": "code",
   "execution_count": null,
   "metadata": {},
   "outputs": [],
   "source": []
  }
 ]
}