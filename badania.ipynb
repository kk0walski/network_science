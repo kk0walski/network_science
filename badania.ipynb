{
 "metadata": {
  "language_info": {
   "codemirror_mode": {
    "name": "ipython",
    "version": 3
   },
   "file_extension": ".py",
   "mimetype": "text/x-python",
   "name": "python",
   "nbconvert_exporter": "python",
   "pygments_lexer": "ipython3",
   "version": "3.9.1"
  },
  "orig_nbformat": 2,
  "kernelspec": {
   "name": "pythonjvsc74a57bd01e7971e35f2e893266deb660fa9f531c394193e23311a732490222924e30d8f0",
   "display_name": "Python 3.9.1  ('venv': venv)"
  },
  "metadata": {
   "interpreter": {
    "hash": "1e7971e35f2e893266deb660fa9f531c394193e23311a732490222924e30d8f0"
   }
  }
 },
 "nbformat": 4,
 "nbformat_minor": 2,
 "cells": [
  {
   "cell_type": "code",
   "execution_count": 1,
   "metadata": {},
   "outputs": [],
   "source": [
    "%matplotlib widget\n",
    "import ipywidgets as widgets\n",
    "import numpy as np\n",
    "import pandas as pd\n",
    "import seaborn as sns\n",
    "import matplotlib.pyplot as plt"
   ]
  },
  {
   "cell_type": "code",
   "execution_count": 2,
   "metadata": {},
   "outputs": [],
   "source": [
    "data = pd.read_csv(\"pomiary.csv\")\n",
    "data = data.round(2)"
   ]
  },
  {
   "cell_type": "code",
   "execution_count": 3,
   "metadata": {},
   "outputs": [
    {
     "output_type": "display_data",
     "data": {
      "text/plain": "interactive(children=(FloatSlider(value=0.4, description='hidden_infectivity', max=1.0), FloatSlider(value=0.6…",
      "application/vnd.jupyter.widget-view+json": {
       "version_major": 2,
       "version_minor": 0,
       "model_id": "945fe20edcf54717b246bd3e3cf1922f"
      }
     },
     "metadata": {}
    }
   ],
   "source": [
    "@widgets.interact(hidden_infectivity=(0,1,0.1), physical_infectivity=(0,1,0.1), nodes_number=[40, 70, 100, 410, 1000])\n",
    "def ploting(hidden_infectivity=0.4, physical_infectivity=0.6, nodes_number=100):\n",
    "    df = data.loc[(data['hidden_infectivity'] == hidden_infectivity) & (data['physical_infectivity'] == physical_infectivity) & (data['nodes'] == nodes_number)]\n",
    "    test = df[['beta', 'lambda', 'aware', 'infected']]\n",
    "    aware_pivot = test.pivot(columns='beta', index='lambda', values='aware')\n",
    "    deriv_aware = aware_pivot.diff(periods=1, axis=1)\n",
    "    infected_pivot = test.pivot(columns='beta', index='lambda', values='infected')\n",
    "    deriv_infected = infected_pivot.diff(periods=1, axis=1)\n",
    "    fig, axes = plt.subplots(2, 2, figsize=(12,12))\n",
    "    fig.suptitle(f\"Reasult of model for network with {nodes_number} nodes unawere probability {hidden_infectivity} and recover probability {physical_infectivity}\")\n",
    "    sns.heatmap(aware_pivot, annot=True, vmax=aware_pivot.max().max(), vmin=aware_pivot.min().min(), cmap=\"YlOrRd\", ax=axes[0, 0])\n",
    "    axes[0, 0].set_title('Probability of being aware')\n",
    "    sns.heatmap(deriv_aware, annot=True, vmax=deriv_aware.max().max(), vmin=deriv_aware.min().min(), ax=axes[0, 1])\n",
    "    axes[0, 1].set_title('Derivation of being aware')\n",
    "    sns.heatmap(infected_pivot, annot=True, vmax=infected_pivot.max().max(), vmin=infected_pivot.min().min(), cmap=\"YlOrRd\", ax=axes[1, 0])\n",
    "    axes[1, 0].set_title('Probability of being infected')\n",
    "    sns.heatmap(deriv_infected, annot=True, vmax=deriv_infected.max().max(), vmin=deriv_infected.min().min(), ax=axes[1, 1])\n",
    "    axes[1, 1].set_title('Derivation of being infected')\n",
    "    plt.tight_layout()"
   ]
  },
  {
   "cell_type": "code",
   "execution_count": 2,
   "metadata": {},
   "outputs": [],
   "source": [
    "data = pd.read_csv(\"pomiary2.csv\")\n",
    "data = data.round(2)"
   ]
  },
  {
   "cell_type": "code",
   "execution_count": 3,
   "metadata": {},
   "outputs": [],
   "source": [
    "reasult = data[data['nodes'] != 70]"
   ]
  },
  {
   "cell_type": "code",
   "execution_count": 6,
   "metadata": {},
   "outputs": [],
   "source": [
    "reasult.to_csv(\"pomiary4.csv\", index=False)"
   ]
  },
  {
   "cell_type": "code",
   "execution_count": 6,
   "metadata": {},
   "outputs": [
    {
     "output_type": "display_data",
     "data": {
      "text/plain": "Canvas(toolbar=Toolbar(toolitems=[('Home', 'Reset original view', 'home', 'home'), ('Back', 'Back to previous …",
      "application/vnd.jupyter.widget-view+json": {
       "version_major": 2,
       "version_minor": 0,
       "model_id": "9de4f58cd41c4b2bae1ae6080839ee40"
      }
     },
     "metadata": {}
    }
   ],
   "source": [
    "\n",
    "# Main problem here is nnot very interactive or informative. Very Pretty though! \n",
    "# other problem is colorbar takes up space normally used for figure. Also not interactive. \n",
    "from mpl_toolkits.mplot3d import Axes3D\n",
    "import matplotlib.pyplot as plt\n",
    "from pylab import *\n",
    "\n",
    "fig = plt.figure(figsize=(8, 6))\n",
    "ax = fig.add_subplot(111, projection='3d')\n",
    "\n",
    "#colors = cm.hsv(the_fourth_dimension/max(the_fourth_dimension))\n",
    "\n",
    "colmap = cm.ScalarMappable(cmap=cm.Greens_r)\n",
    "colmap.set_array(data[['aware']])\n",
    "\n",
    "# reference for cmap. note cmap and c are different!\n",
    "# http://matplotlib.org/examples/color/colormaps_reference.html\n",
    "ax.scatter(data[['beta']], data[['lambda']], data[['media']], marker='s',s = 140, c=data[['aware']], cmap='Greens_r');\n",
    "cb = fig.colorbar(colmap)\n",
    "\n",
    "ax.set_xlabel('beta')\n",
    "ax.set_ylabel('lambda')\n",
    "ax.set_zlabel('media')\n",
    "plt.show()\n",
    "# change view angle \n",
    "# http://infamousheelfilcher.blogspot.com/2013/02/changing-viewing-angle-of-matplotlib.html\n",
    "#ax.view_init(azim = 0,elev = 0)"
   ]
  },
  {
   "cell_type": "code",
   "execution_count": 7,
   "metadata": {},
   "outputs": [
    {
     "output_type": "display_data",
     "data": {
      "text/plain": "interactive(children=(FloatSlider(value=0.4, description='hidden_infectivity', max=1.0), FloatSlider(value=0.6…",
      "application/vnd.jupyter.widget-view+json": {
       "version_major": 2,
       "version_minor": 0,
       "model_id": "59f230769518400bada90f59117e7019"
      }
     },
     "metadata": {}
    }
   ],
   "source": [
    "%matplotlib inline\n",
    "import matplotlib.pyplot as plt\n",
    "sns.set()  # use Seaborn styles\n",
    "@widgets.interact(hidden_infectivity=(0,1,0.1), physical_infectivity=(0,1,0.1), beta=(0,1,0.1), nodes_number=[40, 70, 100, 410, 1000])\n",
    "def ploting(hidden_infectivity=0.4, physical_infectivity=0.6, beta=0.5, nodes_number=100):\n",
    "    df = data.loc[(data['hidden_infectivity'] == hidden_infectivity) & (data['physical_infectivity'] == physical_infectivity) &\n",
    "                  (data['nodes'] == nodes_number) & (data['beta'] == beta) & (data['media'].isin([0.1, 0.3, 0.5, 0.7]))]\n",
    "    test = df[['lambda', 'aware', 'media', 'infected']]\n",
    "    test.pivot(columns='media', index='lambda', values='aware').plot(figsize=(25, 10))"
   ]
  },
  {
   "cell_type": "code",
   "execution_count": 8,
   "metadata": {},
   "outputs": [
    {
     "output_type": "display_data",
     "data": {
      "text/plain": "interactive(children=(FloatSlider(value=0.4, description='hidden_infectivity', max=1.0), FloatSlider(value=0.6…",
      "application/vnd.jupyter.widget-view+json": {
       "version_major": 2,
       "version_minor": 0,
       "model_id": "17672db70e4f4e05a287b6b91297a0a0"
      }
     },
     "metadata": {}
    }
   ],
   "source": [
    "%matplotlib inline\n",
    "import matplotlib.pyplot as plt\n",
    "sns.set()  # use Seaborn styles\n",
    "@widgets.interact(hidden_infectivity=(0,1,0.1), physical_infectivity=(0,1,0.1), _lambda=(0,1,0.1), nodes_number=[40, 70, 100, 410, 1000])\n",
    "def ploting(hidden_infectivity=0.4, physical_infectivity=0.6, _lambda=0.5, nodes_number=100):\n",
    "    df = data.loc[(data['hidden_infectivity'] == hidden_infectivity) & (data['physical_infectivity'] == physical_infectivity) &\n",
    "                  (data['nodes'] == nodes_number) & (data['lambda'] == _lambda) & (data['media'].isin([0.1, 0.3, 0.5, 0.7]))]\n",
    "    test = df[['beta', 'aware', 'media', 'infected']]\n",
    "    test.pivot(columns='media', index='beta', values='aware').plot(figsize=(25, 10))"
   ]
  },
  {
   "cell_type": "code",
   "execution_count": 9,
   "metadata": {},
   "outputs": [
    {
     "output_type": "display_data",
     "data": {
      "text/plain": "interactive(children=(FloatSlider(value=0.4, description='hidden_infectivity', max=1.0), FloatSlider(value=0.6…",
      "application/vnd.jupyter.widget-view+json": {
       "version_major": 2,
       "version_minor": 0,
       "model_id": "8b9fb101c3f445f681b50c1b6e4e803e"
      }
     },
     "metadata": {}
    }
   ],
   "source": [
    "%matplotlib inline\n",
    "import matplotlib.pyplot as plt\n",
    "sns.set()  # use Seaborn styles\n",
    "@widgets.interact(hidden_infectivity=(0,1,0.1), physical_infectivity=(0,1,0.1), _lambda=(0,1,0.1), nodes_number=[40, 70, 100, 410, 1000])\n",
    "def ploting(hidden_infectivity=0.4, physical_infectivity=0.6, _lambda=0.5, nodes_number=100):\n",
    "    df = data.loc[(data['hidden_infectivity'] == hidden_infectivity) & (data['physical_infectivity'] == physical_infectivity) &\n",
    "                  (data['nodes'] == nodes_number) & (data['lambda'] == _lambda) & (data['beta'].isin([0.1, 0.3, 0.5, 0.7]))]\n",
    "    test = df[['beta', 'aware', 'media', 'infected']]\n",
    "    test.pivot(columns='beta', index='media', values='aware').plot(figsize=(25, 10))"
   ]
  },
  {
   "cell_type": "code",
   "execution_count": 10,
   "metadata": {},
   "outputs": [
    {
     "output_type": "display_data",
     "data": {
      "text/plain": "interactive(children=(FloatSlider(value=0.4, description='hidden_infectivity', max=1.0), FloatSlider(value=0.6…",
      "application/vnd.jupyter.widget-view+json": {
       "version_major": 2,
       "version_minor": 0,
       "model_id": "978181c50f53479d9464f470498ed18f"
      }
     },
     "metadata": {}
    }
   ],
   "source": [
    "%matplotlib inline\n",
    "import matplotlib.pyplot as plt\n",
    "sns.set()  # use Seaborn styles\n",
    "@widgets.interact(hidden_infectivity=(0,1,0.1), physical_infectivity=(0,1,0.1), _lambda=(0,1,0.1), nodes_number=[40, 70, 100, 410, 1000])\n",
    "def ploting(hidden_infectivity=0.4, physical_infectivity=0.6, _lambda=0.5, nodes_number=100):\n",
    "    df = data.loc[(data['hidden_infectivity'] == hidden_infectivity) & (data['physical_infectivity'] == physical_infectivity) &\n",
    "                  (data['nodes'] == nodes_number) & (data['lambda'] == _lambda) & (data['beta'].isin([0.1, 0.3, 0.5, 0.7]))]\n",
    "    test = df[['beta', 'aware', 'media', 'infected']]\n",
    "    test.pivot(columns='beta', index='media', values='infected').plot(figsize=(25, 10))"
   ]
  },
  {
   "cell_type": "code",
   "execution_count": 14,
   "metadata": {},
   "outputs": [
    {
     "output_type": "display_data",
     "data": {
      "text/plain": "interactive(children=(FloatSlider(value=0.4, description='hidden_infectivity', max=1.0), FloatSlider(value=0.6…",
      "application/vnd.jupyter.widget-view+json": {
       "version_major": 2,
       "version_minor": 0,
       "model_id": "c4332bb7bc7d45cf8fee6dcc82367e79"
      }
     },
     "metadata": {}
    }
   ],
   "source": [
    "%matplotlib inline\n",
    "import matplotlib.pyplot as plt\n",
    "sns.set()  # use Seaborn styles\n",
    "@widgets.interact(hidden_infectivity=(0,1,0.1), physical_infectivity=(0,1,0.1), _lambda=(0,1,0.1), nodes_number=[40, 70, 100, 410, 1000])\n",
    "def ploting(hidden_infectivity=0.4, physical_infectivity=0.6, beta=0.5, nodes_number=100):\n",
    "    df = data.loc[(data['hidden_infectivity'] == hidden_infectivity) & (data['physical_infectivity'] == physical_infectivity) &\n",
    "                  (data['nodes'] == nodes_number) & (data['beta'] == beta) & (data['lambda'].isin([0.1, 0.3, 0.5, 0.7]))]\n",
    "    test = df[['lambda', 'aware', 'media', 'infected']]\n",
    "    test.pivot(columns='lambda', index='media', values='aware').plot(figsize=(25, 10))"
   ]
  },
  {
   "cell_type": "code",
   "execution_count": 15,
   "metadata": {},
   "outputs": [
    {
     "output_type": "display_data",
     "data": {
      "text/plain": "interactive(children=(FloatSlider(value=0.4, description='hidden_infectivity', max=1.0), FloatSlider(value=0.6…",
      "application/vnd.jupyter.widget-view+json": {
       "version_major": 2,
       "version_minor": 0,
       "model_id": "b34d732d77e44da68be5dd678e22559c"
      }
     },
     "metadata": {}
    }
   ],
   "source": [
    "%matplotlib inline\n",
    "import matplotlib.pyplot as plt\n",
    "sns.set()  # use Seaborn styles\n",
    "@widgets.interact(hidden_infectivity=(0,1,0.1), physical_infectivity=(0,1,0.1), _lambda=(0,1,0.1), nodes_number=[40, 70, 100, 410, 1000])\n",
    "def ploting(hidden_infectivity=0.4, physical_infectivity=0.6, beta=0.5, nodes_number=100):\n",
    "    df = data.loc[(data['hidden_infectivity'] == hidden_infectivity) & (data['physical_infectivity'] == physical_infectivity) &\n",
    "                  (data['nodes'] == nodes_number) & (data['beta'] == beta) & (data['lambda'].isin([0.1, 0.3, 0.5, 0.7]))]\n",
    "    test = df[['lambda', 'aware', 'media', 'infected']]\n",
    "    test.pivot(columns='lambda', index='media', values='infected').plot(figsize=(25, 10))"
   ]
  },
  {
   "cell_type": "code",
   "execution_count": 12,
   "metadata": {},
   "outputs": [
    {
     "output_type": "display_data",
     "data": {
      "text/plain": "interactive(children=(FloatSlider(value=0.4, description='hidden_infectivity', max=1.0), FloatSlider(value=0.6…",
      "application/vnd.jupyter.widget-view+json": {
       "version_major": 2,
       "version_minor": 0,
       "model_id": "346c1923513e4b7db5c45218a3aeb70f"
      }
     },
     "metadata": {}
    }
   ],
   "source": [
    "@widgets.interact(hidden_infectivity=(0,1,0.1), physical_infectivity=(0,1,0.1), media=(0,1,0.1), nodes_number=[40, 70, 100, 410, 1000])\n",
    "def ploting(hidden_infectivity=0.4, physical_infectivity=0.6, media=0.0, nodes_number=100):\n",
    "    df = data.loc[(data['hidden_infectivity'] == hidden_infectivity) & (data['physical_infectivity'] == physical_infectivity) & (data['media'] == media) & (data['nodes'] == nodes_number)]\n",
    "    test = df[['beta', 'lambda', 'aware', 'infected']]\n",
    "    aware_pivot = test.pivot(columns='beta', index='lambda', values='aware')\n",
    "    deriv_aware = aware_pivot.diff(periods=1, axis=1)\n",
    "    infected_pivot = test.pivot(columns='beta', index='lambda', values='infected')\n",
    "    deriv_infected = infected_pivot.diff(periods=1, axis=1)\n",
    "    fig, axes = plt.subplots(2, 2, figsize=(12,12))\n",
    "    fig.suptitle(f\"Reasult of model for network with {nodes_number} nodes unawere probability {hidden_infectivity} and recover probability {physical_infectivity}\")\n",
    "    sns.heatmap(aware_pivot, annot=True, vmax=aware_pivot.max().max(), vmin=aware_pivot.min().min(), cmap=\"YlOrRd\", ax=axes[0, 0])\n",
    "    axes[0, 0].set_title('Probability of being aware')\n",
    "    sns.heatmap(deriv_aware, annot=True, vmax=deriv_aware.max().max(), vmin=deriv_aware.min().min(), ax=axes[0, 1])\n",
    "    axes[0, 1].set_title('Derivation of being aware')\n",
    "    sns.heatmap(infected_pivot, annot=True, vmax=infected_pivot.max().max(), vmin=infected_pivot.min().min(), cmap=\"YlOrRd\", ax=axes[1, 0])\n",
    "    axes[1, 0].set_title('Probability of being infected')\n",
    "    sns.heatmap(deriv_infected, annot=True, vmax=deriv_infected.max().max(), vmin=deriv_infected.min().min(), ax=axes[1, 1])\n",
    "    axes[1, 1].set_title('Derivation of being infected')\n",
    "    plt.tight_layout()"
   ]
  },
  {
   "cell_type": "code",
   "execution_count": null,
   "metadata": {},
   "outputs": [],
   "source": []
  }
 ]
}