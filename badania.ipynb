{
 "metadata": {
  "language_info": {
   "codemirror_mode": {
    "name": "ipython",
    "version": 3
   },
   "file_extension": ".py",
   "mimetype": "text/x-python",
   "name": "python",
   "nbconvert_exporter": "python",
   "pygments_lexer": "ipython3",
   "version": "3.8.5"
  },
  "orig_nbformat": 2,
  "kernelspec": {
   "name": "python385jvsc74a57bd0a1d13af8f65c10d3cee31cf71dc414b5280c701d65442de8bd0a89a2df9fa7bb",
   "display_name": "Python 3.8.5 64-bit ('venv': venv)"
  },
  "metadata": {
   "interpreter": {
    "hash": "a1d13af8f65c10d3cee31cf71dc414b5280c701d65442de8bd0a89a2df9fa7bb"
   }
  }
 },
 "nbformat": 4,
 "nbformat_minor": 2,
 "cells": [
  {
   "cell_type": "code",
   "execution_count": 9,
   "metadata": {},
   "outputs": [],
   "source": [
    "import numpy as np\n",
    "import pandas as pd\n",
    "import seaborn as sns\n",
    "from matplotlib.cm import winter\n",
    "from matplotlib.colors import PowerNorm\n",
    "import matplotlib.pyplot as plt\n",
    "from ipywidgets import interactive\n",
    "%matplotlib inline"
   ]
  },
  {
   "cell_type": "code",
   "execution_count": 10,
   "metadata": {},
   "outputs": [],
   "source": [
    "data = pd.read_csv(\"experiment7.csv\")\n",
    "data = data.round(2)"
   ]
  },
  {
   "cell_type": "code",
   "execution_count": 11,
   "metadata": {},
   "outputs": [],
   "source": [
    "def get_data(hidden_infectivity, physical_infectivity, nodes_number=100, chosen_value=\"aware\"):\n",
    "    df = data.loc[(data['hidden_infectivity'] == hidden_infectivity) & (data['physical_infectivity'] == physical_infectivity) & (data['nodes'] == nodes_number)]\n",
    "    test = df[['beta', 'lambda', 'aware', 'infected']]\n",
    "    test_pivot = test.pivot(columns='beta', index='lambda', values=chosen_value)\n",
    "    deriv = test_pivot.diff(periods=1, axis=1).to_numpy()\n",
    "    deriv[:, 0] = deriv[:, 1]\n",
    "    mask = np.logical_not(deriv > 0.04)\n",
    "    return test_pivot, mask, deriv\n",
    "\n",
    "def ploting(hidden_infectivity=0.4, physical_infectivity=0.6, nodes_number=100, chosen_value=\"aware\"):\n",
    "    z, bool_mask, deriv = get_data(hidden_infectivity, physical_infectivity, nodes_number, chosen_value)\n",
    "    fig, ax = plt.subplots(figsize=(15,10)) \n",
    "    ax = sns.heatmap(z, annot=True, vmax=z.max().max(), vmin=z.min().min(), cmap=\"YlOrRd\", cbar_kws = dict(label=f\"probability of being {chosen_value}\"), ax=ax)\n",
    "    ax = sns.heatmap(deriv, cbar_kws=dict(use_gridspec=False,location=\"left\", label=f\"derviative of {chosen_value}\"), annot=False, vmax=deriv.max().max(), vmin=deriv.min().min(), mask=bool_mask, ax=ax, xticklabels=np.round(np.linspace(0,1,11), 2),  yticklabels=np.round(np.linspace(0,1,11), 2))\n",
    "    ax.set_xlabel(\"Beta\")\n",
    "    ax.set_ylabel(\"lambda\")\n",
    "    ax.set_title(f\"Reasult of model for barabassi network with {nodes_number} nodes and unawere probability {hidden_infectivity} and recover probability {physical_infectivity}\")\n",
    "\n",
    "interactive_plot = interactive(ploting, hidden_infectivity=(0,1,0.1), physical_infectivity=(0,1,0.1), nodes_number=[100, 1000], chosen_value=[\"aware\", \"infected\"])"
   ]
  },
  {
   "cell_type": "code",
   "execution_count": 12,
   "metadata": {},
   "outputs": [
    {
     "output_type": "display_data",
     "data": {
      "text/plain": "interactive(children=(FloatSlider(value=0.4, description='hidden_infectivity', max=1.0), FloatSlider(value=0.6…",
      "application/vnd.jupyter.widget-view+json": {
       "version_major": 2,
       "version_minor": 0,
       "model_id": "5e57c1f81341400884862e5a9424cd76"
      }
     },
     "metadata": {}
    }
   ],
   "source": [
    "interactive_plot"
   ]
  },
  {
   "cell_type": "code",
   "execution_count": null,
   "metadata": {},
   "outputs": [],
   "source": []
  }
 ]
}