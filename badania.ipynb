{
 "metadata": {
  "language_info": {
   "codemirror_mode": {
    "name": "ipython",
    "version": 3
   },
   "file_extension": ".py",
   "mimetype": "text/x-python",
   "name": "python",
   "nbconvert_exporter": "python",
   "pygments_lexer": "ipython3",
   "version": "3.8.5"
  },
  "orig_nbformat": 2,
  "kernelspec": {
   "name": "python385jvsc74a57bd0a1d13af8f65c10d3cee31cf71dc414b5280c701d65442de8bd0a89a2df9fa7bb",
   "display_name": "Python 3.8.5 64-bit ('venv': venv)"
  },
  "metadata": {
   "interpreter": {
    "hash": "a1d13af8f65c10d3cee31cf71dc414b5280c701d65442de8bd0a89a2df9fa7bb"
   }
  }
 },
 "nbformat": 4,
 "nbformat_minor": 2,
 "cells": [
  {
   "cell_type": "code",
   "execution_count": 1,
   "metadata": {},
   "outputs": [],
   "source": [
    "%matplotlib widget\n",
    "import ipywidgets as widgets\n",
    "import numpy as np\n",
    "import pandas as pd\n",
    "import seaborn as sns\n",
    "import matplotlib.pyplot as plt"
   ]
  },
  {
   "cell_type": "code",
   "execution_count": 2,
   "metadata": {},
   "outputs": [],
   "source": [
    "data = pd.read_csv(\"pomiary.csv\")\n",
    "data = data.round(2)"
   ]
  },
  {
   "cell_type": "code",
   "execution_count": 3,
   "metadata": {},
   "outputs": [
    {
     "output_type": "display_data",
     "data": {
      "text/plain": "interactive(children=(FloatSlider(value=0.4, description='hidden_infectivity', max=1.0), FloatSlider(value=0.6…",
      "application/vnd.jupyter.widget-view+json": {
       "version_major": 2,
       "version_minor": 0,
       "model_id": "945fe20edcf54717b246bd3e3cf1922f"
      }
     },
     "metadata": {}
    }
   ],
   "source": [
    "@widgets.interact(hidden_infectivity=(0,1,0.1), physical_infectivity=(0,1,0.1), nodes_number=[40, 70, 100, 410, 1000])\n",
    "def ploting(hidden_infectivity=0.4, physical_infectivity=0.6, nodes_number=100):\n",
    "    df = data.loc[(data['hidden_infectivity'] == hidden_infectivity) & (data['physical_infectivity'] == physical_infectivity) & (data['nodes'] == nodes_number)]\n",
    "    test = df[['beta', 'lambda', 'aware', 'infected']]\n",
    "    aware_pivot = test.pivot(columns='beta', index='lambda', values='aware')\n",
    "    deriv_aware = aware_pivot.diff(periods=1, axis=1)\n",
    "    infected_pivot = test.pivot(columns='beta', index='lambda', values='infected')\n",
    "    deriv_infected = infected_pivot.diff(periods=1, axis=1)\n",
    "    fig, axes = plt.subplots(2, 2, figsize=(12,12))\n",
    "    fig.suptitle(f\"Reasult of model for network with {nodes_number} nodes unawere probability {hidden_infectivity} and recover probability {physical_infectivity}\")\n",
    "    sns.heatmap(aware_pivot, annot=True, vmax=aware_pivot.max().max(), vmin=aware_pivot.min().min(), cmap=\"YlOrRd\", ax=axes[0, 0])\n",
    "    axes[0, 0].set_title('Probability of being aware')\n",
    "    sns.heatmap(deriv_aware, annot=True, vmax=deriv_aware.max().max(), vmin=deriv_aware.min().min(), ax=axes[0, 1])\n",
    "    axes[0, 1].set_title('Derivation of being aware')\n",
    "    sns.heatmap(infected_pivot, annot=True, vmax=infected_pivot.max().max(), vmin=infected_pivot.min().min(), cmap=\"YlOrRd\", ax=axes[1, 0])\n",
    "    axes[1, 0].set_title('Probability of being infected')\n",
    "    sns.heatmap(deriv_infected, annot=True, vmax=deriv_infected.max().max(), vmin=deriv_infected.min().min(), ax=axes[1, 1])\n",
    "    axes[1, 1].set_title('Derivation of being infected')\n",
    "    plt.tight_layout()"
   ]
  },
  {
   "cell_type": "code",
   "execution_count": 4,
   "metadata": {},
   "outputs": [],
   "source": [
    "data = pd.read_csv(\"pomiary2.csv\")\n",
    "data = data.round(2)"
   ]
  },
  {
   "cell_type": "code",
   "execution_count": 5,
   "metadata": {},
   "outputs": [
    {
     "output_type": "execute_result",
     "data": {
      "text/plain": [
       "   nodes  rho       network  beta  lambda  media  factor  \\\n",
       "0    100  0.2  barabassi100   0.2     0.2    0.0    0.01   \n",
       "1    100  0.2  barabassi100   0.4     0.2    0.0    0.01   \n",
       "2    100  0.2  barabassi100   0.2     0.4    0.0    0.01   \n",
       "3    100  0.2  barabassi100   0.2     0.3    0.0    0.01   \n",
       "4    100  0.2  barabassi100   0.3     1.0    0.0    0.01   \n",
       "\n",
       "   physical_infectivity  hidden_infectivity  aware  infected  \n",
       "0                   0.0                 0.0   0.93      0.37  \n",
       "1                   0.0                 0.0   0.93      0.47  \n",
       "2                   0.0                 0.0   0.93      0.37  \n",
       "3                   0.0                 0.0   0.93      0.38  \n",
       "4                   0.0                 0.0   0.93      0.39  "
      ],
      "text/html": "<div>\n<style scoped>\n    .dataframe tbody tr th:only-of-type {\n        vertical-align: middle;\n    }\n\n    .dataframe tbody tr th {\n        vertical-align: top;\n    }\n\n    .dataframe thead th {\n        text-align: right;\n    }\n</style>\n<table border=\"1\" class=\"dataframe\">\n  <thead>\n    <tr style=\"text-align: right;\">\n      <th></th>\n      <th>nodes</th>\n      <th>rho</th>\n      <th>network</th>\n      <th>beta</th>\n      <th>lambda</th>\n      <th>media</th>\n      <th>factor</th>\n      <th>physical_infectivity</th>\n      <th>hidden_infectivity</th>\n      <th>aware</th>\n      <th>infected</th>\n    </tr>\n  </thead>\n  <tbody>\n    <tr>\n      <th>0</th>\n      <td>100</td>\n      <td>0.2</td>\n      <td>barabassi100</td>\n      <td>0.2</td>\n      <td>0.2</td>\n      <td>0.0</td>\n      <td>0.01</td>\n      <td>0.0</td>\n      <td>0.0</td>\n      <td>0.93</td>\n      <td>0.37</td>\n    </tr>\n    <tr>\n      <th>1</th>\n      <td>100</td>\n      <td>0.2</td>\n      <td>barabassi100</td>\n      <td>0.4</td>\n      <td>0.2</td>\n      <td>0.0</td>\n      <td>0.01</td>\n      <td>0.0</td>\n      <td>0.0</td>\n      <td>0.93</td>\n      <td>0.47</td>\n    </tr>\n    <tr>\n      <th>2</th>\n      <td>100</td>\n      <td>0.2</td>\n      <td>barabassi100</td>\n      <td>0.2</td>\n      <td>0.4</td>\n      <td>0.0</td>\n      <td>0.01</td>\n      <td>0.0</td>\n      <td>0.0</td>\n      <td>0.93</td>\n      <td>0.37</td>\n    </tr>\n    <tr>\n      <th>3</th>\n      <td>100</td>\n      <td>0.2</td>\n      <td>barabassi100</td>\n      <td>0.2</td>\n      <td>0.3</td>\n      <td>0.0</td>\n      <td>0.01</td>\n      <td>0.0</td>\n      <td>0.0</td>\n      <td>0.93</td>\n      <td>0.38</td>\n    </tr>\n    <tr>\n      <th>4</th>\n      <td>100</td>\n      <td>0.2</td>\n      <td>barabassi100</td>\n      <td>0.3</td>\n      <td>1.0</td>\n      <td>0.0</td>\n      <td>0.01</td>\n      <td>0.0</td>\n      <td>0.0</td>\n      <td>0.93</td>\n      <td>0.39</td>\n    </tr>\n  </tbody>\n</table>\n</div>"
     },
     "metadata": {},
     "execution_count": 5
    }
   ],
   "source": [
    "data.head()"
   ]
  },
  {
   "cell_type": "code",
   "execution_count": 6,
   "metadata": {},
   "outputs": [
    {
     "output_type": "display_data",
     "data": {
      "text/plain": "Canvas(toolbar=Toolbar(toolitems=[('Home', 'Reset original view', 'home', 'home'), ('Back', 'Back to previous …",
      "application/vnd.jupyter.widget-view+json": {
       "version_major": 2,
       "version_minor": 0,
       "model_id": "9de4f58cd41c4b2bae1ae6080839ee40"
      }
     },
     "metadata": {}
    }
   ],
   "source": [
    "\n",
    "# Main problem here is nnot very interactive or informative. Very Pretty though! \n",
    "# other problem is colorbar takes up space normally used for figure. Also not interactive. \n",
    "from mpl_toolkits.mplot3d import Axes3D\n",
    "import matplotlib.pyplot as plt\n",
    "from pylab import *\n",
    "\n",
    "fig = plt.figure(figsize=(8, 6))\n",
    "ax = fig.add_subplot(111, projection='3d')\n",
    "\n",
    "#colors = cm.hsv(the_fourth_dimension/max(the_fourth_dimension))\n",
    "\n",
    "colmap = cm.ScalarMappable(cmap=cm.Greens_r)\n",
    "colmap.set_array(data[['aware']])\n",
    "\n",
    "# reference for cmap. note cmap and c are different!\n",
    "# http://matplotlib.org/examples/color/colormaps_reference.html\n",
    "ax.scatter(data[['beta']], data[['lambda']], data[['media']], marker='s',s = 140, c=data[['aware']], cmap='Greens_r');\n",
    "cb = fig.colorbar(colmap)\n",
    "\n",
    "ax.set_xlabel('beta')\n",
    "ax.set_ylabel('lambda')\n",
    "ax.set_zlabel('media')\n",
    "plt.show()\n",
    "# change view angle \n",
    "# http://infamousheelfilcher.blogspot.com/2013/02/changing-viewing-angle-of-matplotlib.html\n",
    "#ax.view_init(azim = 0,elev = 0)"
   ]
  },
  {
   "cell_type": "code",
   "execution_count": 7,
   "metadata": {},
   "outputs": [
    {
     "output_type": "display_data",
     "data": {
      "text/plain": "interactive(children=(FloatSlider(value=0.4, description='hidden_infectivity', max=1.0), FloatSlider(value=0.6…",
      "application/vnd.jupyter.widget-view+json": {
       "version_major": 2,
       "version_minor": 0,
       "model_id": "59f230769518400bada90f59117e7019"
      }
     },
     "metadata": {}
    }
   ],
   "source": [
    "%matplotlib inline\n",
    "import matplotlib.pyplot as plt\n",
    "sns.set()  # use Seaborn styles\n",
    "@widgets.interact(hidden_infectivity=(0,1,0.1), physical_infectivity=(0,1,0.1), beta=(0,1,0.1), nodes_number=[40, 70, 100, 410, 1000])\n",
    "def ploting(hidden_infectivity=0.4, physical_infectivity=0.6, beta=0.5, nodes_number=100):\n",
    "    df = data.loc[(data['hidden_infectivity'] == hidden_infectivity) & (data['physical_infectivity'] == physical_infectivity) &\n",
    "                  (data['nodes'] == nodes_number) & (data['beta'] == beta) & (data['media'].isin([0.1, 0.3, 0.5, 0.7]))]\n",
    "    test = df[['lambda', 'aware', 'media', 'infected']]\n",
    "    test.pivot(columns='media', index='lambda', values='aware').plot(figsize=(25, 10))"
   ]
  },
  {
   "cell_type": "code",
   "execution_count": 8,
   "metadata": {},
   "outputs": [
    {
     "output_type": "display_data",
     "data": {
      "text/plain": "interactive(children=(FloatSlider(value=0.4, description='hidden_infectivity', max=1.0), FloatSlider(value=0.6…",
      "application/vnd.jupyter.widget-view+json": {
       "version_major": 2,
       "version_minor": 0,
       "model_id": "17672db70e4f4e05a287b6b91297a0a0"
      }
     },
     "metadata": {}
    }
   ],
   "source": [
    "%matplotlib inline\n",
    "import matplotlib.pyplot as plt\n",
    "sns.set()  # use Seaborn styles\n",
    "@widgets.interact(hidden_infectivity=(0,1,0.1), physical_infectivity=(0,1,0.1), _lambda=(0,1,0.1), nodes_number=[40, 70, 100, 410, 1000])\n",
    "def ploting(hidden_infectivity=0.4, physical_infectivity=0.6, _lambda=0.5, nodes_number=100):\n",
    "    df = data.loc[(data['hidden_infectivity'] == hidden_infectivity) & (data['physical_infectivity'] == physical_infectivity) &\n",
    "                  (data['nodes'] == nodes_number) & (data['lambda'] == _lambda) & (data['media'].isin([0.1, 0.3, 0.5, 0.7]))]\n",
    "    test = df[['beta', 'aware', 'media', 'infected']]\n",
    "    test.pivot(columns='media', index='beta', values='aware').plot(figsize=(25, 10))"
   ]
  },
  {
   "cell_type": "code",
   "execution_count": 9,
   "metadata": {},
   "outputs": [
    {
     "output_type": "display_data",
     "data": {
      "text/plain": "interactive(children=(FloatSlider(value=0.4, description='hidden_infectivity', max=1.0), FloatSlider(value=0.6…",
      "application/vnd.jupyter.widget-view+json": {
       "version_major": 2,
       "version_minor": 0,
       "model_id": "8b9fb101c3f445f681b50c1b6e4e803e"
      }
     },
     "metadata": {}
    }
   ],
   "source": [
    "%matplotlib inline\n",
    "import matplotlib.pyplot as plt\n",
    "sns.set()  # use Seaborn styles\n",
    "@widgets.interact(hidden_infectivity=(0,1,0.1), physical_infectivity=(0,1,0.1), _lambda=(0,1,0.1), nodes_number=[40, 70, 100, 410, 1000])\n",
    "def ploting(hidden_infectivity=0.4, physical_infectivity=0.6, _lambda=0.5, nodes_number=100):\n",
    "    df = data.loc[(data['hidden_infectivity'] == hidden_infectivity) & (data['physical_infectivity'] == physical_infectivity) &\n",
    "                  (data['nodes'] == nodes_number) & (data['lambda'] == _lambda) & (data['beta'].isin([0.1, 0.3, 0.5, 0.7]))]\n",
    "    test = df[['beta', 'aware', 'media', 'infected']]\n",
    "    test.pivot(columns='beta', index='media', values='aware').plot(figsize=(25, 10))"
   ]
  },
  {
   "cell_type": "code",
   "execution_count": 10,
   "metadata": {},
   "outputs": [
    {
     "output_type": "display_data",
     "data": {
      "text/plain": "interactive(children=(FloatSlider(value=0.4, description='hidden_infectivity', max=1.0), FloatSlider(value=0.6…",
      "application/vnd.jupyter.widget-view+json": {
       "version_major": 2,
       "version_minor": 0,
       "model_id": "978181c50f53479d9464f470498ed18f"
      }
     },
     "metadata": {}
    }
   ],
   "source": [
    "%matplotlib inline\n",
    "import matplotlib.pyplot as plt\n",
    "sns.set()  # use Seaborn styles\n",
    "@widgets.interact(hidden_infectivity=(0,1,0.1), physical_infectivity=(0,1,0.1), _lambda=(0,1,0.1), nodes_number=[40, 70, 100, 410, 1000])\n",
    "def ploting(hidden_infectivity=0.4, physical_infectivity=0.6, _lambda=0.5, nodes_number=100):\n",
    "    df = data.loc[(data['hidden_infectivity'] == hidden_infectivity) & (data['physical_infectivity'] == physical_infectivity) &\n",
    "                  (data['nodes'] == nodes_number) & (data['lambda'] == _lambda) & (data['beta'].isin([0.1, 0.3, 0.5, 0.7]))]\n",
    "    test = df[['beta', 'aware', 'media', 'infected']]\n",
    "    test.pivot(columns='beta', index='media', values='infected').plot(figsize=(25, 10))"
   ]
  },
  {
   "cell_type": "code",
   "execution_count": 14,
   "metadata": {},
   "outputs": [
    {
     "output_type": "display_data",
     "data": {
      "text/plain": "interactive(children=(FloatSlider(value=0.4, description='hidden_infectivity', max=1.0), FloatSlider(value=0.6…",
      "application/vnd.jupyter.widget-view+json": {
       "version_major": 2,
       "version_minor": 0,
       "model_id": "c4332bb7bc7d45cf8fee6dcc82367e79"
      }
     },
     "metadata": {}
    }
   ],
   "source": [
    "%matplotlib inline\n",
    "import matplotlib.pyplot as plt\n",
    "sns.set()  # use Seaborn styles\n",
    "@widgets.interact(hidden_infectivity=(0,1,0.1), physical_infectivity=(0,1,0.1), _lambda=(0,1,0.1), nodes_number=[40, 70, 100, 410, 1000])\n",
    "def ploting(hidden_infectivity=0.4, physical_infectivity=0.6, beta=0.5, nodes_number=100):\n",
    "    df = data.loc[(data['hidden_infectivity'] == hidden_infectivity) & (data['physical_infectivity'] == physical_infectivity) &\n",
    "                  (data['nodes'] == nodes_number) & (data['beta'] == beta) & (data['lambda'].isin([0.1, 0.3, 0.5, 0.7]))]\n",
    "    test = df[['lambda', 'aware', 'media', 'infected']]\n",
    "    test.pivot(columns='lambda', index='media', values='aware').plot(figsize=(25, 10))"
   ]
  },
  {
   "cell_type": "code",
   "execution_count": 15,
   "metadata": {},
   "outputs": [
    {
     "output_type": "display_data",
     "data": {
      "text/plain": "interactive(children=(FloatSlider(value=0.4, description='hidden_infectivity', max=1.0), FloatSlider(value=0.6…",
      "application/vnd.jupyter.widget-view+json": {
       "version_major": 2,
       "version_minor": 0,
       "model_id": "b34d732d77e44da68be5dd678e22559c"
      }
     },
     "metadata": {}
    }
   ],
   "source": [
    "%matplotlib inline\n",
    "import matplotlib.pyplot as plt\n",
    "sns.set()  # use Seaborn styles\n",
    "@widgets.interact(hidden_infectivity=(0,1,0.1), physical_infectivity=(0,1,0.1), _lambda=(0,1,0.1), nodes_number=[40, 70, 100, 410, 1000])\n",
    "def ploting(hidden_infectivity=0.4, physical_infectivity=0.6, beta=0.5, nodes_number=100):\n",
    "    df = data.loc[(data['hidden_infectivity'] == hidden_infectivity) & (data['physical_infectivity'] == physical_infectivity) &\n",
    "                  (data['nodes'] == nodes_number) & (data['beta'] == beta) & (data['lambda'].isin([0.1, 0.3, 0.5, 0.7]))]\n",
    "    test = df[['lambda', 'aware', 'media', 'infected']]\n",
    "    test.pivot(columns='lambda', index='media', values='infected').plot(figsize=(25, 10))"
   ]
  },
  {
   "cell_type": "code",
   "execution_count": 12,
   "metadata": {},
   "outputs": [
    {
     "output_type": "display_data",
     "data": {
      "text/plain": "interactive(children=(FloatSlider(value=0.4, description='hidden_infectivity', max=1.0), FloatSlider(value=0.6…",
      "application/vnd.jupyter.widget-view+json": {
       "version_major": 2,
       "version_minor": 0,
       "model_id": "346c1923513e4b7db5c45218a3aeb70f"
      }
     },
     "metadata": {}
    }
   ],
   "source": [
    "@widgets.interact(hidden_infectivity=(0,1,0.1), physical_infectivity=(0,1,0.1), media=(0,1,0.1), nodes_number=[40, 70, 100, 410, 1000])\n",
    "def ploting(hidden_infectivity=0.4, physical_infectivity=0.6, media=0.0, nodes_number=100):\n",
    "    df = data.loc[(data['hidden_infectivity'] == hidden_infectivity) & (data['physical_infectivity'] == physical_infectivity) & (data['media'] == media) & (data['nodes'] == nodes_number)]\n",
    "    test = df[['beta', 'lambda', 'aware', 'infected']]\n",
    "    aware_pivot = test.pivot(columns='beta', index='lambda', values='aware')\n",
    "    deriv_aware = aware_pivot.diff(periods=1, axis=1)\n",
    "    infected_pivot = test.pivot(columns='beta', index='lambda', values='infected')\n",
    "    deriv_infected = infected_pivot.diff(periods=1, axis=1)\n",
    "    fig, axes = plt.subplots(2, 2, figsize=(12,12))\n",
    "    fig.suptitle(f\"Reasult of model for network with {nodes_number} nodes unawere probability {hidden_infectivity} and recover probability {physical_infectivity}\")\n",
    "    sns.heatmap(aware_pivot, annot=True, vmax=aware_pivot.max().max(), vmin=aware_pivot.min().min(), cmap=\"YlOrRd\", ax=axes[0, 0])\n",
    "    axes[0, 0].set_title('Probability of being aware')\n",
    "    sns.heatmap(deriv_aware, annot=True, vmax=deriv_aware.max().max(), vmin=deriv_aware.min().min(), ax=axes[0, 1])\n",
    "    axes[0, 1].set_title('Derivation of being aware')\n",
    "    sns.heatmap(infected_pivot, annot=True, vmax=infected_pivot.max().max(), vmin=infected_pivot.min().min(), cmap=\"YlOrRd\", ax=axes[1, 0])\n",
    "    axes[1, 0].set_title('Probability of being infected')\n",
    "    sns.heatmap(deriv_infected, annot=True, vmax=deriv_infected.max().max(), vmin=deriv_infected.min().min(), ax=axes[1, 1])\n",
    "    axes[1, 1].set_title('Derivation of being infected')\n",
    "    plt.tight_layout()"
   ]
  },
  {
   "cell_type": "code",
   "execution_count": null,
   "metadata": {},
   "outputs": [],
   "source": []
  }
 ]
}